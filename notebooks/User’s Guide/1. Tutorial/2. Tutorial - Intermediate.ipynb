{
 "cells": [
  {
   "cell_type": "markdown",
   "metadata": {},
   "source": [
    "# 2. Tutorial - Intermediate"
   ]
  },
  {
   "cell_type": "code",
   "execution_count": 1,
   "metadata": {
    "collapsed": false,
    "scrolled": true
   },
   "outputs": [
    {
     "name": "stdout",
     "output_type": "stream",
     "text": [
      "Populating the interactive namespace from numpy and matplotlib\n"
     ]
    }
   ],
   "source": [
    "%pylab inline"
   ]
  },
  {
   "cell_type": "markdown",
   "metadata": {},
   "source": [
    "## Artist tutorial\n",
    "http://matplotlib.org/users/artists.html"
   ]
  },
  {
   "cell_type": "markdown",
   "metadata": {},
   "source": [
    "There are **three layers** to the matplotlib API.  \n",
    "1. The matplotlib.backend_bases.FigureCanvas is the area onto which the figure is drawn,  \n",
    "2. the matplotlib.backend_bases.Renderer is the object which knows how to draw on the FigureCanvas, and  \n",
    "3. the matplotlib.artist.Artist is the object that knows how to use a renderer to paint onto the canvas.   \n",
    "\n",
    "The FigureCanvas and Renderer handle all the details of talking to user interface toolkits like wxPython or drawing languages like PostScript®, and the Artist handles all the high level constructs like representing and laying out the figure, text, and lines. The typical user will spend 95% of his time working with the Artists.\n",
    "\n",
    "There are **two types of Artists**: primitives and containers. \n",
    "1. The primitives represent the standard graphical objects we want to paint onto our canvas: Line2D, Rectangle, Text, AxesImage, etc., and \n",
    "2. the containers are places to put them (Axis, Axes and Figure). \n",
    "\n",
    "The standard use is to create a Figure instance, use the Figure to create one or more Axes or Subplot instances, and use the Axes instance helper methods to create the primitives.   \n",
    "\n",
    "In the example below, we create a Figure instance using matplotlib.pyplot.figure(), which is a convenience method for instantiating Figure instances and connecting them with your user interface or drawing toolkit FigureCanvas. As we will discuss below, this is not necessary – you can work directly with PostScript, PDF Gtk+, or wxPython FigureCanvas instances, instantiate your Figures directly and connect them yourselves – but since we are focusing here on the Artist API we’ll let pyplot handle some of those details for us:"
   ]
  },
  {
   "cell_type": "code",
   "execution_count": 2,
   "metadata": {
    "collapsed": false
   },
   "outputs": [
    {
     "data": {
      "text/plain": [
       "<matplotlib.axes._subplots.AxesSubplot at 0x7f8f4d04db00>"
      ]
     },
     "execution_count": 2,
     "metadata": {},
     "output_type": "execute_result"
    },
    {
     "data": {
      "image/png": "[encoded data removed]",
      "text/plain": [
       "<matplotlib.figure.Figure at 0x7f8f4d04dac8>"
      ]
     },
     "metadata": {},
     "output_type": "display_data"
    }
   ],
   "source": [
    "fig = plt.figure()\n",
    "ax = fig.add_subplot(2, 1, 1)  # two rows, one column, first plot\n",
    "ax"
   ]
  },
  {
   "cell_type": "markdown",
   "metadata": {},
   "source": [
    "The **Axes** is probably the most important class in the matplotlib API, and the one you will be working with most of the time. This is because the Axes is the plotting area into which most of the objects go, and the Axes has many special helper methods ***(plot(), text(), hist(), imshow())*** to create the most common graphics primitives ***(Line2D, Text, Rectangle, Image, respectively)***. These helper methods will take your data (e.g., numpy arrays and strings) and create primitive Artist instances as needed (e.g., Line2D), add them to the relevant containers, and draw them when requested. Most of you are probably familiar with the ***Subplot***, which is just a special case of an Axes that lives on a regular rows by columns grid of Subplot instances. If you want to create an Axes at an arbitrary location, simply use the ***add_axes()*** method which takes a list of ***[left, bottom, width, height] *** values in 0-1 relative figure coordinates:"
   ]
  },
  {
   "cell_type": "code",
   "execution_count": 3,
   "metadata": {
    "collapsed": false
   },
   "outputs": [
    {
     "data": {
      "image/png": "[encoded data removed]",
      "text/plain": [
       "<matplotlib.figure.Figure at 0x7f8f4a9494e0>"
      ]
     },
     "metadata": {},
     "output_type": "display_data"
    }
   ],
   "source": [
    "fig2 = plt.figure()\n",
    "ax2 = fig2.add_axes([0.15, 0.1, 0.7, 0.3])"
   ]
  },
  {
   "cell_type": "code",
   "execution_count": 4,
   "metadata": {
    "collapsed": false
   },
   "outputs": [
    {
     "data": {
      "image/png": "[encoded data removed]",
      "text/plain": [
       "<matplotlib.figure.Figure at 0x7f8f4a9a3c88>"
      ]
     },
     "metadata": {},
     "output_type": "display_data"
    }
   ],
   "source": [
    "plt.close('all')\n",
    "\n",
    "import numpy as np\n",
    "t = np.arange(0.0, 1.0, 0.01)\n",
    "s = np.sin(2*np.pi*t) \n",
    "\n",
    "fig = plt.figure()\n",
    "ax = fig.add_axes([0.15, 0.1, 0.7, 0.3])\n",
    "# ax = fig.add_subplot(2, 1, 1)  # two rows, one column, first plot\n",
    "\n",
    "line, = ax.plot(t, s, color='blue', lw=2) "
   ]
  },
  {
   "cell_type": "markdown",
   "metadata": {},
   "source": [
    "In this example, ***ax*** is the Axes instance created by the ***fig.add_subplot*** call above (remember Subplot is just a subclass of Axes) and when you call ***ax.plot***, it creates a Line2D instance and adds it to the ***Axes.lines*** list. In the interactive ipython session below, you can see that the Axes.lines list is length one and contains the same line that was returned by the line, = ax.plot... call:"
   ]
  },
  {
   "cell_type": "code",
   "execution_count": 5,
   "metadata": {
    "collapsed": false
   },
   "outputs": [
    {
     "data": {
      "text/plain": [
       "<matplotlib.lines.Line2D at 0x7f8f4a8c9be0>"
      ]
     },
     "execution_count": 5,
     "metadata": {},
     "output_type": "execute_result"
    }
   ],
   "source": [
    "ax.lines[0]"
   ]
  },
  {
   "cell_type": "code",
   "execution_count": 6,
   "metadata": {
    "collapsed": false
   },
   "outputs": [
    {
     "data": {
      "text/plain": [
       "<matplotlib.lines.Line2D at 0x7f8f4a8c9be0>"
      ]
     },
     "execution_count": 6,
     "metadata": {},
     "output_type": "execute_result"
    }
   ],
   "source": [
    "line"
   ]
  },
  {
   "cell_type": "markdown",
   "metadata": {},
   "source": [
    "If you make subsequent calls to ax.plot (and the hold state is “on” which is the default) then additional lines will be added to the list. You can remove lines later simply by calling the list methods; either of these will work:"
   ]
  },
  {
   "cell_type": "code",
   "execution_count": 7,
   "metadata": {
    "collapsed": false
   },
   "outputs": [],
   "source": [
    "# del ax.lines[0]\n",
    "ax.lines.remove(line)  # one or the other, not both!"
   ]
  },
  {
   "cell_type": "markdown",
   "metadata": {},
   "source": [
    "The Axes also has helper methods to configure and decorate the x-axis and y-axis tick, tick labels and axis labels:"
   ]
  },
  {
   "cell_type": "code",
   "execution_count": 8,
   "metadata": {
    "collapsed": false
   },
   "outputs": [],
   "source": [
    "xtext = ax.set_xlabel('my xdata') # returns a Text instance\n",
    "ytext = ax.set_ylabel('my ydata')"
   ]
  },
  {
   "cell_type": "markdown",
   "metadata": {},
   "source": [
    "When you call ax.set_xlabel, it passes the information on the Text instance of the XAxis. Each Axes instance contains an XAxis and a YAxis instance, which handle the layout and drawing of the ticks, tick labels and axis labels."
   ]
  },
  {
   "cell_type": "code",
   "execution_count": 9,
   "metadata": {
    "collapsed": false
   },
   "outputs": [
    {
     "data": {
      "image/png": "[encoded data removed]",
      "text/plain": [
       "<matplotlib.figure.Figure at 0x7f8f4a7fa908>"
      ]
     },
     "metadata": {},
     "output_type": "display_data"
    }
   ],
   "source": [
    "import numpy as np\n",
    "t = np.arange(0.0, 1.0, 0.01)\n",
    "s = np.sin(2*np.pi*t) \n",
    "\n",
    "fig = plt.figure()\n",
    "ax = fig.add_axes([0.15, 0.1, 0.7, 0.3])\n",
    "# ax = fig.add_subplot(2, 1, 1)  # two rows, one column, first plot\n",
    "\n",
    "line, = ax.plot(t, s, color='blue', lw=2) \n",
    "\n",
    "xtext = ax.set_xlabel('my xdata') # returns a Text instance\n",
    "ytext = ax.set_ylabel('my ydata')"
   ]
  },
  {
   "cell_type": "markdown",
   "metadata": {},
   "source": [
    "## Customizing your objects"
   ]
  },
  {
   "cell_type": "markdown",
   "metadata": {},
   "source": [
    "Every element in the figure is represented by a matplotlib ***Artist***, and each has an extensive list of properties to configure its appearance. The figure itself contains a ***Rectangle*** exactly the size of the figure, which you can use to set the background color and transparency of the figures. Likewise, each ***Axes*** bounding box (the standard white box with black edges in the typical matplotlib plot, has a Rectangle instance that determines the color, transparency, and other properties of the Axes. These instances are stored as member variables ***Figure.patch*** and ***Axes.patch*** (“Patch” is a name inherited from MATLAB, and is a 2D “patch” of color on the figure, e.g., rectangles, circles and polygons). Every matplotlib Artist has the following properties:\n",
    "```\n",
    "Property\tDescription\n",
    "alpha\tThe transparency - a scalar from 0-1\n",
    "animated\tA boolean that is used to facilitate animated drawing\n",
    "axes\tThe axes that the Artist lives in, possibly None\n",
    "clip_box\tThe bounding box that clips the Artist\n",
    "clip_on\tWhether clipping is enabled\n",
    "clip_path\tThe path the artist is clipped to\n",
    "contains\tA picking function to test whether the artist contains the pick point\n",
    "figure\tThe figure instance the artist lives in, possibly None\n",
    "label\tA text label (e.g., for auto-labeling)\n",
    "picker\tA python object that controls object picking\n",
    "transform\tThe transformation\n",
    "visible\tA boolean whether the artist should be drawn\n",
    "zorder\tA number which determines the drawing order\n",
    "rasterized\tBoolean; Turns vectors into rastergraphics: (for compression & eps transparency)\n",
    "```\n",
    "\n",
    "Each of the properties is accessed with an old-fashioned setter or getter (yes we know this irritates Pythonistas and we plan to support direct access via properties or traits but it hasn’t been done yet). For example, to multiply the current alpha by a half:\n",
    "```\n",
    "a = o.get_alpha()\n",
    "o.set_alpha(0.5*a)\n",
    "```\n",
    "If you want to set a number of properties at once, you can also use the set method with keyword arguments. For example:\n",
    "```\n",
    "o.set(alpha=0.5, zorder=2)\n",
    "```\n",
    "If you are working interactively at the python shell, a handy way to inspect the Artist properties is to use the ***matplotlib.artist.getp()*** function (simply getp() in pylab), which lists the properties and their values. This works for classes derived from Artist as well, e.g., Figure and Rectangle. Here are the Figure rectangle properties mentioned above:"
   ]
  },
  {
   "cell_type": "code",
   "execution_count": 10,
   "metadata": {
    "collapsed": false
   },
   "outputs": [
    {
     "name": "stdout",
     "output_type": "stream",
     "text": [
      "    agg_filter = None\n",
      "    alpha = None\n",
      "    animated = False\n",
      "    antialiased or aa = True\n",
      "    axes = Axes(0.15,0.1;0.7x0.3)\n",
      "    children = []\n",
      "    clip_box = TransformedBbox(Bbox([[0.0, 0.0], [1.0, 1.0]]), Co...\n",
      "    clip_on = True\n",
      "    clip_path = None\n",
      "    color or c = blue\n",
      "    contains = None\n",
      "    dash_capstyle = butt\n",
      "    dash_joinstyle = round\n",
      "    data = (array([ 0.  ,  0.01,  0.02,  0.03,  0.04,  0.05, ...\n",
      "    drawstyle = default\n",
      "    figure = Figure(432x288)\n",
      "    fillstyle = full\n",
      "    gid = None\n",
      "    label = _line0\n",
      "    linestyle or ls = -\n",
      "    linewidth or lw = 2.0\n",
      "    marker = None\n",
      "    markeredgecolor or mec = blue\n",
      "    markeredgewidth or mew = 1.0\n",
      "    markerfacecolor or mfc = blue\n",
      "    markerfacecoloralt or mfcalt = none\n",
      "    markersize or ms = 6.0\n",
      "    markevery = None\n",
      "    path = Path(array([[  0.00000000e+00,   0.00000000e+00], ...\n",
      "    path_effects = []\n",
      "    picker = None\n",
      "    pickradius = 5\n",
      "    rasterized = None\n",
      "    sketch_params = None\n",
      "    snap = None\n",
      "    solid_capstyle = projecting\n",
      "    solid_joinstyle = round\n",
      "    transform = CompositeGenericTransform(TransformWrapper(Blended...\n",
      "    transformed_clip_path_and_affine = (None, None)\n",
      "    url = None\n",
      "    visible = True\n",
      "    xdata = [ 0.    0.01  0.02  0.03  0.04  0.05]...\n",
      "    xydata = [[ 0.          0.        ]  [ 0.01        0.062790...\n",
      "    ydata = [ 0.          0.06279052  0.12533323  0.18738131  ...\n",
      "    zorder = 2\n"
     ]
    }
   ],
   "source": [
    "getp(line)"
   ]
  },
  {
   "cell_type": "code",
   "execution_count": 11,
   "metadata": {
    "collapsed": false
   },
   "outputs": [
    {
     "name": "stdout",
     "output_type": "stream",
     "text": [
      "    agg_filter = None\n",
      "    alpha = None\n",
      "    animated = False\n",
      "    axes = [<matplotlib.axes._axes.Axes object at 0x7f8f4a7fa...\n",
      "    children = [<matplotlib.patches.Rectangle object at 0x7f8f701...\n",
      "    clip_box = None\n",
      "    clip_on = True\n",
      "    clip_path = None\n",
      "    contains = None\n",
      "    default_bbox_extra_artists = [<matplotlib.axes._axes.Axes object at 0x7f8f4a7fa...\n",
      "    dpi = 72.0\n",
      "    edgecolor = (1.0, 1.0, 1.0, 0.0)\n",
      "    facecolor = (1.0, 1.0, 1.0, 0.0)\n",
      "    figheight = 4.0\n",
      "    figure = None\n",
      "    figwidth = 6.0\n",
      "    frameon = True\n",
      "    gid = None\n",
      "    label = \n",
      "    path_effects = []\n",
      "    picker = None\n",
      "    rasterized = None\n",
      "    size_inches = [ 6.  4.]\n",
      "    sketch_params = None\n",
      "    snap = None\n",
      "    tight_layout = False\n",
      "    transform = IdentityTransform()\n",
      "    transformed_clip_path_and_affine = (None, None)\n",
      "    url = None\n",
      "    visible = True\n",
      "    window_extent = TransformedBbox(Bbox([[0.0, 0.0], [6.0, 4.0]]), Af...\n",
      "    zorder = 0\n"
     ]
    }
   ],
   "source": [
    "getp(fig)"
   ]
  },
  {
   "cell_type": "code",
   "execution_count": 12,
   "metadata": {
    "collapsed": false
   },
   "outputs": [
    {
     "name": "stdout",
     "output_type": "stream",
     "text": [
      "    aa = False\n",
      "    agg_filter = None\n",
      "    alpha = None\n",
      "    animated = False\n",
      "    antialiased or aa = False\n",
      "    axes = None\n",
      "    bbox = Bbox(x0=0.0, y0=0.0, x1=1.0, y1=1.0)\n",
      "    capstyle = butt\n",
      "    children = []\n",
      "    clip_box = None\n",
      "    clip_on = True\n",
      "    clip_path = None\n",
      "    contains = None\n",
      "    data_transform = BboxTransformTo(TransformedBbox(Bbox([[0.0, 0.0], ...\n",
      "    ec = (1.0, 1.0, 1.0, 0.0)\n",
      "    edgecolor or ec = (1.0, 1.0, 1.0, 0.0)\n",
      "    extents = Bbox(x0=0.0, y0=0.0, x1=432.0, y1=288.0)\n",
      "    facecolor or fc = (1.0, 1.0, 1.0, 0.0)\n",
      "    fc = (1.0, 1.0, 1.0, 0.0)\n",
      "    figure = Figure(432x288)\n",
      "    fill = True\n",
      "    gid = None\n",
      "    hatch = None\n",
      "    height = 1\n",
      "    joinstyle = miter\n",
      "    label = \n",
      "    linestyle or ls = solid\n",
      "    linewidth or lw = 0.0\n",
      "    ls = solid\n",
      "    lw = 0.0\n",
      "    patch_transform = CompositeGenericTransform(BboxTransformTo(Bbox([[0...\n",
      "    path = Path(array([[ 0.,  0.],        [ 1.,  0.],        ...\n",
      "    path_effects = []\n",
      "    picker = None\n",
      "    rasterized = None\n",
      "    sketch_params = None\n",
      "    snap = None\n",
      "    transform = CompositeGenericTransform(CompositeGenericTransfor...\n",
      "    transformed_clip_path_and_affine = (None, None)\n",
      "    url = None\n",
      "    verts = [[   0.    0.]  [ 432.    0.]  [ 432.  288.]  [   ...\n",
      "    visible = True\n",
      "    width = 1\n",
      "    window_extent = Bbox(x0=0.0, y0=0.0, x1=432.0, y1=288.0)\n",
      "    x = 0\n",
      "    xy = (0, 0)\n",
      "    y = 0\n",
      "    zorder = 1\n"
     ]
    }
   ],
   "source": [
    "matplotlib.artist.getp(fig.patch)"
   ]
  },
  {
   "cell_type": "markdown",
   "metadata": {},
   "source": [
    "The docstrings for all of the classes also contain the Artist properties, so you can consult the interactive “help” or the artist Module for a listing of properties for a given object."
   ]
  },
  {
   "cell_type": "code",
   "execution_count": 13,
   "metadata": {
    "collapsed": true
   },
   "outputs": [],
   "source": [
    "line?"
   ]
  },
  {
   "cell_type": "markdown",
   "metadata": {},
   "source": [
    "## Object containers"
   ]
  },
  {
   "cell_type": "markdown",
   "metadata": {},
   "source": [
    "Now that we know how to inspect and set the properties of a given object we want to configure, we need to now how to get at that object. As mentioned in the introduction, there are two kinds of objects: primitives and containers. The primitives are usually the things you want to configure (the font of a Text instance, the width of a Line2D) although the containers also have some properties as well – for example the Axes Artist is a container that contains many of the primitives in your plot, but it also has properties like the xscale to control whether the xaxis is ‘linear’ or ‘log’. In this section we’ll review where the various container objects store the Artists that you want to get at."
   ]
  },
  {
   "cell_type": "markdown",
   "metadata": {},
   "source": [
    "## Figure container"
   ]
  },
  {
   "cell_type": "markdown",
   "metadata": {},
   "source": [
    "The top level container Artist is the ***matplotlib.figure.Figure***, and it contains everything in the figure. The background of the figure is a Rectangle which is stored in ***Figure.patch***. As you add subplots (add_subplot()) and axes (add_axes()) to the figure these will be appended to the ***Figure.axes***. These are also returned by the methods that create them:"
   ]
  },
  {
   "cell_type": "code",
   "execution_count": 14,
   "metadata": {
    "collapsed": false
   },
   "outputs": [
    {
     "data": {
      "text/plain": [
       "<matplotlib.figure.Figure at 0x7f8f4a7fab70>"
      ]
     },
     "metadata": {},
     "output_type": "display_data"
    }
   ],
   "source": [
    "fig = plt.figure() "
   ]
  },
  {
   "cell_type": "code",
   "execution_count": 15,
   "metadata": {
    "collapsed": false
   },
   "outputs": [
    {
     "data": {
      "text/plain": [
       "<matplotlib.axes._subplots.AxesSubplot at 0x7f8f70139358>"
      ]
     },
     "execution_count": 15,
     "metadata": {},
     "output_type": "execute_result"
    }
   ],
   "source": [
    "ax1 = fig.add_subplot(211)\n",
    "ax1"
   ]
  },
  {
   "cell_type": "code",
   "execution_count": 16,
   "metadata": {
    "collapsed": false
   },
   "outputs": [
    {
     "data": {
      "text/plain": [
       "<matplotlib.axes._axes.Axes at 0x7f8f4a704860>"
      ]
     },
     "execution_count": 16,
     "metadata": {},
     "output_type": "execute_result"
    }
   ],
   "source": [
    "ax2 = fig.add_axes([0.1, 0.1, 0.7, 0.3])\n",
    "ax2"
   ]
  },
  {
   "cell_type": "code",
   "execution_count": 17,
   "metadata": {
    "collapsed": false
   },
   "outputs": [
    {
     "data": {
      "text/plain": [
       "[<matplotlib.axes._subplots.AxesSubplot at 0x7f8f70139358>,\n",
       " <matplotlib.axes._axes.Axes at 0x7f8f4a704860>]"
      ]
     },
     "execution_count": 17,
     "metadata": {},
     "output_type": "execute_result"
    }
   ],
   "source": [
    "fig.axes"
   ]
  },
  {
   "cell_type": "markdown",
   "metadata": {},
   "source": [
    "Because the figure maintains the concept of the “current axes” (see Figure.gca and Figure.sca) to support the pylab/pyplot state machine, you should not insert or remove axes directly from the axes list, but rather use the ***add_subplot()*** and ***add_axes()*** methods to insert, and the ***delaxes()*** method to delete. You are free however, to iterate over the list of axes or index into it to get access to Axes instances you want to customize. Here is an example which turns all the axes grids on:"
   ]
  },
  {
   "cell_type": "code",
   "execution_count": 18,
   "metadata": {
    "collapsed": true
   },
   "outputs": [],
   "source": [
    "for ax in fig.axes:\n",
    "    ax.grid(True)"
   ]
  },
  {
   "cell_type": "markdown",
   "metadata": {},
   "source": [
    "The figure also has its own text, lines, patches and images, which you can use to add primitives directly. The default coordinate system for the Figure will simply be in pixels (which is not usually what you want) but you can control this by setting the transform property of the Artist you are adding to the figure.\n",
    "\n",
    "More useful is “figure coordinates” where (0, 0) is the bottom-left of the figure and (1, 1) is the top-right of the figure which you can obtain by setting the Artist transform to ***fig.transFigure***:"
   ]
  },
  {
   "cell_type": "code",
   "execution_count": 19,
   "metadata": {
    "collapsed": false
   },
   "outputs": [
    {
     "data": {
      "image/png": "[encoded data removed]",
      "text/plain": [
       "<matplotlib.figure.Figure at 0x7f8f4a6825c0>"
      ]
     },
     "metadata": {},
     "output_type": "display_data"
    }
   ],
   "source": [
    "fig = plt.figure()\n",
    "l1 = matplotlib.lines.Line2D([0, 1], [0, 1], transform=fig.transFigure, figure=fig)\n",
    "l2 = matplotlib.lines.Line2D([0, 1], [1, 0], transform=fig.transFigure, figure=fig)\n",
    "fig.lines.extend([l1, l2])\n",
    "fig.canvas.draw()"
   ]
  },
  {
   "cell_type": "markdown",
   "metadata": {},
   "source": [
    "Here is a summary of the Artists the figure contains\n",
    "```\n",
    "Figure attribute\tDescription\n",
    "axes\tA list of Axes instances (includes Subplot)\n",
    "patch\tThe Rectangle background\n",
    "images\tA list of FigureImages patches - useful for raw pixel display\n",
    "legends\tA list of Figure Legend instances (different from Axes.legends)\n",
    "lines\tA list of Figure Line2D instances (rarely used, see Axes.lines)\n",
    "patches\tA list of Figure patches (rarely used, see Axes.patches)\n",
    "texts\tA list Figure Text instances\n",
    "```"
   ]
  },
  {
   "cell_type": "markdown",
   "metadata": {},
   "source": [
    "## Axes container"
   ]
  },
  {
   "cell_type": "markdown",
   "metadata": {},
   "source": [
    "The ***matplotlib.axes.Axes*** is the center of the matplotlib universe – it contains the vast majority of all the Artists used in a figure with many helper methods to create and add these Artists to itself, as well as helper methods to access and customize the Artists it contains. Like the Figure, it contains a ***Patch*** patch which is a ***Rectangle*** for Cartesian coordinates and a ***Circle*** for polar coordinates; this patch determines the shape, background and border of the plotting region:"
   ]
  },
  {
   "cell_type": "code",
   "execution_count": 20,
   "metadata": {
    "collapsed": false
   },
   "outputs": [
    {
     "data": {
      "image/png": "[encoded data removed]",
      "text/plain": [
       "<matplotlib.figure.Figure at 0x7f8f4a6f5eb8>"
      ]
     },
     "metadata": {},
     "output_type": "display_data"
    }
   ],
   "source": [
    "fig = plt.gcf()\n",
    "ax = fig.add_subplot(111)\n",
    "rect = ax.patch  # a Rectangle instance\n",
    "rect.set_facecolor('green')\n",
    "plt.show()"
   ]
  },
  {
   "cell_type": "markdown",
   "metadata": {},
   "source": [
    "When you call a plotting method, e.g., the canonical plot() and pass in arrays or lists of values, the method will create a ***matplotlib.lines.Line2D()*** instance, update the line with all the Line2D properties passed as keyword arguments, ***add the line to the Axes.lines*** container, and returns it to you:"
   ]
  },
  {
   "cell_type": "code",
   "execution_count": 21,
   "metadata": {
    "collapsed": false
   },
   "outputs": [
    {
     "data": {
      "image/png": "[encoded data removed]",
      "text/plain": [
       "<matplotlib.figure.Figure at 0x7f8f4a77bac8>"
      ]
     },
     "metadata": {},
     "output_type": "display_data"
    }
   ],
   "source": [
    "ax = plt.gca()\n",
    "x, y = np.random.rand(2, 100)\n",
    "line, = ax.plot(x, y, '-', color='blue', linewidth=2)\n",
    "line.set_color('orange')"
   ]
  },
  {
   "cell_type": "markdown",
   "metadata": {},
   "source": [
    "plot returns ***a list of lines*** because you can pass in multiple x, y pairs to plot, and we are unpacking the first element of the length one list into the line variable. The line has been added to the ***Axes.lines*** list:"
   ]
  },
  {
   "cell_type": "code",
   "execution_count": 22,
   "metadata": {
    "collapsed": false
   },
   "outputs": [
    {
     "data": {
      "text/plain": [
       "[<matplotlib.lines.Line2D at 0x7f8f4a5dbb00>]"
      ]
     },
     "execution_count": 22,
     "metadata": {},
     "output_type": "execute_result"
    }
   ],
   "source": [
    "ax.lines"
   ]
  },
  {
   "cell_type": "markdown",
   "metadata": {},
   "source": [
    "Similarly, methods that create patches, like bar() creates a list of rectangles, will add the patches to the Axes.patches list:"
   ]
  },
  {
   "cell_type": "code",
   "execution_count": 23,
   "metadata": {
    "collapsed": false
   },
   "outputs": [
    {
     "data": {
      "text/plain": [
       "<a list of 50 Patch objects>"
      ]
     },
     "execution_count": 23,
     "metadata": {},
     "output_type": "execute_result"
    }
   ],
   "source": [
    "n, bins, rectangles = ax.hist(np.random.randn(1000), 50, facecolor='yellow')\n",
    "rectangles"
   ]
  },
  {
   "cell_type": "code",
   "execution_count": 24,
   "metadata": {
    "collapsed": false
   },
   "outputs": [
    {
     "data": {
      "text/plain": [
       "50"
      ]
     },
     "execution_count": 24,
     "metadata": {},
     "output_type": "execute_result"
    }
   ],
   "source": [
    "len(ax.patches)"
   ]
  },
  {
   "cell_type": "markdown",
   "metadata": {},
   "source": [
    "You should not add objects directly to the Axes.lines or Axes.patches lists unless you know exactly what you are doing, because the Axes needs to do a few things when it creates and adds an object. It sets the figure and axes property of the Artist, as well as the default Axes transformation (unless a transformation is set). It also inspects the data contained in the Artist to update the data structures controlling auto-scaling, so that the view limits can be adjusted to contain the plotted data. You can, nonetheless, create objects yourself and add them directly to the Axes using helper methods like ***add_line()*** and ***add_patch()***. Here is an annotated interactive session illustrating what is going on:"
   ]
  },
  {
   "cell_type": "code",
   "execution_count": 25,
   "metadata": {
    "collapsed": false
   },
   "outputs": [
    {
     "data": {
      "text/plain": [
       "<matplotlib.patches.Rectangle at 0x7f8f48c47cf8>"
      ]
     },
     "execution_count": 25,
     "metadata": {},
     "output_type": "execute_result"
    },
    {
     "data": {
      "image/png": "[encoded data removed]",
      "text/plain": [
       "<matplotlib.figure.Figure at 0x7f8f48ce2860>"
      ]
     },
     "metadata": {},
     "output_type": "display_data"
    }
   ],
   "source": [
    "fig = plt.figure()\n",
    "ax = fig.add_subplot(111)\n",
    "\n",
    "# create a rectangle instance\n",
    "rect = matplotlib.patches.Rectangle( (1,1), width=5, height=12)\n",
    "rect"
   ]
  },
  {
   "cell_type": "code",
   "execution_count": 26,
   "metadata": {
    "collapsed": false
   },
   "outputs": [],
   "source": [
    "# by default the axes instance is None\n",
    "rect.axes"
   ]
  },
  {
   "cell_type": "code",
   "execution_count": 27,
   "metadata": {
    "collapsed": false
   },
   "outputs": [
    {
     "data": {
      "text/plain": [
       "CompositeGenericTransform(BboxTransformTo(Bbox([[1.0, 1.0], [6.0, 13.0]])), Affine2D(array([[ 1.,  0.,  0.],\n",
       "       [ 0.,  1.,  0.],\n",
       "       [ 0.,  0.,  1.]])))"
      ]
     },
     "execution_count": 27,
     "metadata": {},
     "output_type": "execute_result"
    }
   ],
   "source": [
    "# and the transformation instance is set to the \"identity transform\"\n",
    "rect.get_transform()"
   ]
  },
  {
   "cell_type": "code",
   "execution_count": 28,
   "metadata": {
    "collapsed": false
   },
   "outputs": [
    {
     "data": {
      "text/plain": [
       "<matplotlib.axes._subplots.AxesSubplot at 0x7f8f48ce2dd8>"
      ]
     },
     "execution_count": 28,
     "metadata": {},
     "output_type": "execute_result"
    }
   ],
   "source": [
    "# now we add the Rectangle to the Axes\n",
    "ax.add_patch(rect)\n",
    "\n",
    "# and notice that the ax.add_patch method has set the axes\n",
    "# instance\n",
    "rect.axes"
   ]
  },
  {
   "cell_type": "code",
   "execution_count": 29,
   "metadata": {
    "collapsed": false
   },
   "outputs": [
    {
     "data": {
      "text/plain": [
       "CompositeGenericTransform(CompositeGenericTransform(BboxTransformTo(Bbox([[1.0, 1.0], [6.0, 13.0]])), Affine2D(array([[ 1.,  0.,  0.],\n",
       "       [ 0.,  1.,  0.],\n",
       "       [ 0.,  0.,  1.]]))), CompositeGenericTransform(TransformWrapper(BlendedAffine2D(IdentityTransform(),IdentityTransform())), CompositeGenericTransform(BboxTransformFrom(TransformedBbox(Bbox([[0.0, 0.0], [1.0, 1.0]]), TransformWrapper(BlendedAffine2D(IdentityTransform(),IdentityTransform())))), BboxTransformTo(TransformedBbox(Bbox([[0.125, 0.125], [0.9, 0.88]]), BboxTransformTo(TransformedBbox(Bbox([[0.0, 0.0], [6.0, 4.0]]), Affine2D(array([[ 72.,   0.,   0.],\n",
       "       [  0.,  72.,   0.],\n",
       "       [  0.,   0.,   1.]])))))))))"
      ]
     },
     "execution_count": 29,
     "metadata": {},
     "output_type": "execute_result"
    }
   ],
   "source": [
    "# and the transformation has been set too\n",
    "rect.get_transform()"
   ]
  },
  {
   "cell_type": "code",
   "execution_count": 30,
   "metadata": {
    "collapsed": false
   },
   "outputs": [
    {
     "data": {
      "text/plain": [
       "CompositeGenericTransform(TransformWrapper(BlendedAffine2D(IdentityTransform(),IdentityTransform())), CompositeGenericTransform(BboxTransformFrom(TransformedBbox(Bbox([[0.0, 0.0], [1.0, 1.0]]), TransformWrapper(BlendedAffine2D(IdentityTransform(),IdentityTransform())))), BboxTransformTo(TransformedBbox(Bbox([[0.125, 0.125], [0.9, 0.88]]), BboxTransformTo(TransformedBbox(Bbox([[0.0, 0.0], [6.0, 4.0]]), Affine2D(array([[ 72.,   0.,   0.],\n",
       "       [  0.,  72.,   0.],\n",
       "       [  0.,   0.,   1.]]))))))))"
      ]
     },
     "execution_count": 30,
     "metadata": {},
     "output_type": "execute_result"
    }
   ],
   "source": [
    "# the default axes transformation is ax.transData\n",
    "ax.transData"
   ]
  },
  {
   "cell_type": "code",
   "execution_count": 31,
   "metadata": {
    "collapsed": false
   },
   "outputs": [
    {
     "data": {
      "text/plain": [
       "False"
      ]
     },
     "execution_count": 31,
     "metadata": {},
     "output_type": "execute_result"
    }
   ],
   "source": [
    "rect.get_transform() is ax.transData"
   ]
  },
  {
   "cell_type": "code",
   "execution_count": 32,
   "metadata": {
    "collapsed": false
   },
   "outputs": [
    {
     "data": {
      "text/plain": [
       "(0.0, 1.0)"
      ]
     },
     "execution_count": 32,
     "metadata": {},
     "output_type": "execute_result"
    }
   ],
   "source": [
    "# notice that the xlimits of the Axes have not been changed\n",
    "ax.get_xlim()"
   ]
  },
  {
   "cell_type": "code",
   "execution_count": 33,
   "metadata": {
    "collapsed": false
   },
   "outputs": [
    {
     "data": {
      "text/plain": [
       "(1.0, 1.0, 5.0, 12.0)"
      ]
     },
     "execution_count": 33,
     "metadata": {},
     "output_type": "execute_result"
    }
   ],
   "source": [
    "# but the data limits have been updated to encompass the rectangle\n",
    "ax.dataLim.bounds"
   ]
  },
  {
   "cell_type": "code",
   "execution_count": 34,
   "metadata": {
    "collapsed": false
   },
   "outputs": [
    {
     "data": {
      "text/plain": [
       "(0.75, 6.25)"
      ]
     },
     "execution_count": 34,
     "metadata": {},
     "output_type": "execute_result"
    }
   ],
   "source": [
    "# we can manually invoke the auto-scaling machinery\n",
    "ax.autoscale_view()\n",
    "\n",
    "# and now the xlim are updated to encompass the rectangle\n",
    "ax.get_xlim()"
   ]
  },
  {
   "cell_type": "code",
   "execution_count": 35,
   "metadata": {
    "collapsed": false
   },
   "outputs": [],
   "source": [
    "# we have to manually force a figure draw\n",
    "# plt.figure = ax.figure\n",
    "ax.figure.canvas.draw()\n",
    "plt.show()"
   ]
  },
  {
   "cell_type": "markdown",
   "metadata": {},
   "source": [
    "There are many, many Axes helper methods for creating primitive Artists and adding them to their respective containers. The table below summarizes a small sampling of them, the kinds of Artist they create, and where they store them\n",
    "\n",
    "```\n",
    "Helper method\tArtist\tContainer\n",
    "ax.annotate - text annotations\tAnnotate\tax.texts\n",
    "ax.bar - bar charts\tRectangle\tax.patches\n",
    "ax.errorbar - error bar plots\tLine2D and Rectangle\tax.lines and ax.patches\n",
    "ax.fill - shared area\tPolygon\tax.patches\n",
    "ax.hist - histograms\tRectangle\tax.patches\n",
    "ax.imshow - image data\tAxesImage\tax.images\n",
    "ax.legend - axes legends\tLegend\tax.legends\n",
    "ax.plot - xy plots\tLine2D\tax.lines\n",
    "ax.scatter - scatter charts\tPolygonCollection\tax.collections\n",
    "ax.text - text\tText\tax.texts\n",
    "```"
   ]
  },
  {
   "cell_type": "markdown",
   "metadata": {},
   "source": [
    "In addition to all of these Artists, the Axes contains two important Artist containers: the ***XAxis*** and ***YAxis***, which handle the drawing of the ticks and labels. These are stored as instance variables ***xaxis*** and ***yaxis***. The XAxis and YAxis containers will be detailed below, but note that the Axes contains many helper methods which forward calls on to the Axis instances so you often do not need to work with them directly unless you want to. For example, you can set the font size of the XAxis ticklabels using the Axes helper method:"
   ]
  },
  {
   "cell_type": "code",
   "execution_count": 36,
   "metadata": {
    "collapsed": true
   },
   "outputs": [],
   "source": [
    "for label in ax.get_xticklabels():\n",
    "    label.set_color('orange')"
   ]
  },
  {
   "cell_type": "markdown",
   "metadata": {},
   "source": [
    "Below is a summary of the Artists that the Axes contains\n",
    "```\n",
    "Axes attribute\tDescription\n",
    "artists\tA list of Artist instances\n",
    "patch\tRectangle instance for Axes background\n",
    "collections\tA list of Collection instances\n",
    "images\tA list of AxesImage\n",
    "legends\tA list of Legend instances\n",
    "lines\tA list of Line2D instances\n",
    "patches\tA list of Patch instances\n",
    "texts\tA list of Text instances\n",
    "xaxis\tmatplotlib.axis.XAxis instance\n",
    "yaxis\tmatplotlib.axis.YAxis instance\n",
    "```"
   ]
  },
  {
   "cell_type": "markdown",
   "metadata": {},
   "source": [
    "## Axis containers"
   ]
  },
  {
   "cell_type": "markdown",
   "metadata": {},
   "source": [
    "The ***matplotlib.axis.Axis*** instances handle the drawing of the tick lines, the grid lines, the tick labels and the axis label. You can configure the left and right ticks separately for the y-axis, and the upper and lower ticks separately for the x-axis. The Axis also stores the data and view intervals used in auto-scaling, panning and zooming, as well as the ***Locator and Formatter*** instances which control where the ticks are placed and how they are represented as strings.\n",
    "\n",
    "Each Axis object contains a ***label*** attribute (this is what pylab modifies in calls to ***xlabel()*** and ***ylabel()***) as well as a list of major and minor ticks. The ticks are ***XTick*** and ***YTick*** instances, which contain the actual line and text primitives that render the ticks and ticklabels. Because the ticks are dynamically created as needed (e.g., when panning and zooming), you should access the lists of major and minor ticks through their accessor methods ***get_major_ticks()*** and ***get_minor_ticks()***. Although the ticks contain all the primitives and will be covered below, the ***Axis*** methods contain accessor methods to return the tick lines, tick labels, tick locations etc.:"
   ]
  },
  {
   "cell_type": "code",
   "execution_count": 37,
   "metadata": {
    "collapsed": false
   },
   "outputs": [
    {
     "data": {
      "text/plain": [
       "array([ 0.,  1.,  2.,  3.,  4.,  5.,  6.,  7.])"
      ]
     },
     "execution_count": 37,
     "metadata": {},
     "output_type": "execute_result"
    }
   ],
   "source": [
    "axis = ax.xaxis\n",
    "axis.get_ticklocs()"
   ]
  },
  {
   "cell_type": "code",
   "execution_count": 38,
   "metadata": {
    "collapsed": false
   },
   "outputs": [
    {
     "data": {
      "text/plain": [
       "<a list of 8 Text major ticklabel objects>"
      ]
     },
     "execution_count": 38,
     "metadata": {},
     "output_type": "execute_result"
    }
   ],
   "source": [
    "axis.get_ticklabels()"
   ]
  },
  {
   "cell_type": "code",
   "execution_count": 39,
   "metadata": {
    "collapsed": false
   },
   "outputs": [
    {
     "data": {
      "text/plain": [
       "<matplotlib.text.Text at 0x7f8f48c82a58>"
      ]
     },
     "execution_count": 39,
     "metadata": {},
     "output_type": "execute_result"
    }
   ],
   "source": [
    "axis.get_ticklabels()[0]"
   ]
  },
  {
   "cell_type": "code",
   "execution_count": 40,
   "metadata": {
    "collapsed": false
   },
   "outputs": [
    {
     "data": {
      "text/plain": [
       "<a list of 16 Line2D ticklines objects>"
      ]
     },
     "execution_count": 40,
     "metadata": {},
     "output_type": "execute_result"
    }
   ],
   "source": [
    "# note there are twice as many ticklines as labels because by\n",
    "#  default there are tick lines at the top and bottom but only tick\n",
    "axis.get_ticklines()"
   ]
  },
  {
   "cell_type": "code",
   "execution_count": 41,
   "metadata": {
    "collapsed": false
   },
   "outputs": [
    {
     "data": {
      "text/plain": [
       "<matplotlib.lines.Line2D at 0x7f8f48c87048>"
      ]
     },
     "execution_count": 41,
     "metadata": {},
     "output_type": "execute_result"
    }
   ],
   "source": [
    "axis.get_ticklines()[0]"
   ]
  },
  {
   "cell_type": "code",
   "execution_count": 42,
   "metadata": {
    "collapsed": false
   },
   "outputs": [
    {
     "data": {
      "text/plain": [
       "<a list of 16 Line2D ticklines objects>"
      ]
     },
     "execution_count": 42,
     "metadata": {},
     "output_type": "execute_result"
    }
   ],
   "source": [
    "# by default you get the major ticks back\n",
    "axis.get_ticklines()"
   ]
  },
  {
   "cell_type": "code",
   "execution_count": 43,
   "metadata": {
    "collapsed": false
   },
   "outputs": [
    {
     "data": {
      "text/plain": [
       "<a list of 0 Line2D ticklines objects>"
      ]
     },
     "execution_count": 43,
     "metadata": {},
     "output_type": "execute_result"
    }
   ],
   "source": [
    "# but you can also ask for the minor ticks\n",
    "axis.get_ticklines(minor=True)"
   ]
  },
  {
   "cell_type": "markdown",
   "metadata": {},
   "source": [
    "Here is a summary of some of the useful accessor methods of the Axis (these have corresponding setters where useful, such as set_major_formatter)\n",
    "```\n",
    "Accessor method\tDescription\n",
    "get_scale\tThe scale of the axis, e.g., ‘log’ or ‘linear’\n",
    "get_view_interval\tThe interval instance of the axis view limits\n",
    "get_data_interval\tThe interval instance of the axis data limits\n",
    "get_gridlines\tA list of grid lines for the Axis\n",
    "get_label\tThe axis label - a Text instance\n",
    "get_ticklabels\tA list of Text instances - keyword minor=True|False\n",
    "get_ticklines\tA list of Line2D instances - keyword minor=True|False\n",
    "get_ticklocs\tA list of Tick locations - keyword minor=True|False\n",
    "get_major_locator\tThe matplotlib.ticker.Locator instance for major ticks\n",
    "get_major_formatter\tThe matplotlib.ticker.Formatter instance for major ticks\n",
    "get_minor_locator\tThe matplotlib.ticker.Locator instance for minor ticks\n",
    "get_minor_formatter\tThe matplotlib.ticker.Formatter instance for minor ticks\n",
    "get_major_ticks\tA list of Tick instances for major ticks\n",
    "get_minor_ticks\tA list of Tick instances for minor ticks\n",
    "grid\tTurn the grid on or off for the major or minor ticks\n",
    "```"
   ]
  },
  {
   "cell_type": "markdown",
   "metadata": {},
   "source": [
    "Here is an example, not recommended for its beauty, which customizes the axes and tick properties"
   ]
  },
  {
   "cell_type": "code",
   "execution_count": 44,
   "metadata": {
    "collapsed": false
   },
   "outputs": [
    {
     "data": {
      "image/png": "[encoded data removed]",
      "text/plain": [
       "<matplotlib.figure.Figure at 0x7f8f48c1b128>"
      ]
     },
     "metadata": {},
     "output_type": "display_data"
    }
   ],
   "source": [
    "# import numpy as np\n",
    "# import matplotlib.pyplot as plt\n",
    "\n",
    "# plt.figure creates a matplotlib.figure.Figure instance\n",
    "fig = plt.figure()\n",
    "rect = fig.patch # a rectangle instance\n",
    "rect.set_facecolor('lightgoldenrodyellow')\n",
    "\n",
    "ax1 = fig.add_axes([0.1, 0.3, 0.4, 0.4])\n",
    "rect = ax1.patch\n",
    "rect.set_facecolor('lightslategray')\n",
    "\n",
    "\n",
    "for label in ax1.xaxis.get_ticklabels():\n",
    "    # label is a Text instance\n",
    "    label.set_color('red')\n",
    "    label.set_rotation(45)\n",
    "    label.set_fontsize(16)\n",
    "\n",
    "for line in ax1.yaxis.get_ticklines():\n",
    "    # line is a Line2D instance\n",
    "    line.set_color('green')\n",
    "    line.set_markersize(25)\n",
    "    line.set_markeredgewidth(3)\n",
    "\n",
    "plt.show()"
   ]
  },
  {
   "cell_type": "markdown",
   "metadata": {},
   "source": [
    "## Tick containers"
   ]
  },
  {
   "cell_type": "markdown",
   "metadata": {},
   "source": [
    "The ***matplotlib.axis.Tick*** is the final container object in our descent from the Figure to the Axes to the Axis to the Tick. The ***Tick*** contains the ***tick*** and ***grid line*** instances, as well as the ***label*** instances for the upper and lower ticks. Each of these is accessible directly as an attribute of the Tick. In addition, there are boolean variables that determine whether the upper labels and ticks are on for the x-axis and whether the right labels and ticks are on for the y-axis.\n",
    "```\n",
    "Tick attribute\tDescription\n",
    "tick1line\tLine2D instance\n",
    "tick2line\tLine2D instance\n",
    "gridline\tLine2D instance\n",
    "label1\tText instance\n",
    "label2\tText instance\n",
    "gridOn\tboolean which determines whether to draw the tickline\n",
    "tick1On\tboolean which determines whether to draw the 1st tickline\n",
    "tick2On\tboolean which determines whether to draw the 2nd tickline\n",
    "label1On\tboolean which determines whether to draw tick label\n",
    "label2On\tboolean which determines whether to draw tick label\n",
    "```"
   ]
  },
  {
   "cell_type": "markdown",
   "metadata": {},
   "source": [
    "Here is an example which sets the formatter for the right side ticks with dollar signs and colors them green on the right side of the yaxis"
   ]
  },
  {
   "cell_type": "code",
   "execution_count": 45,
   "metadata": {
    "collapsed": false
   },
   "outputs": [
    {
     "data": {
      "image/png": "[encoded data removed]",
      "text/plain": [
       "<matplotlib.figure.Figure at 0x7f8f48b91e10>"
      ]
     },
     "metadata": {},
     "output_type": "display_data"
    }
   ],
   "source": [
    "import matplotlib.ticker as ticker\n",
    "\n",
    "# Fixing random state for reproducibility\n",
    "np.random.seed(19680801)\n",
    "\n",
    "fig = plt.figure()\n",
    "ax = fig.add_subplot(111)\n",
    "ax.plot(100*np.random.rand(20))\n",
    "\n",
    "formatter = ticker.FormatStrFormatter('$%1.2f')\n",
    "ax.yaxis.set_major_formatter(formatter)\n",
    "\n",
    "for tick in ax.yaxis.get_major_ticks():\n",
    "    tick.label1On = False\n",
    "    tick.label2On = True\n",
    "    tick.label2.set_color('green')\n",
    "\n",
    "plt.show()"
   ]
  },
  {
   "cell_type": "markdown",
   "metadata": {},
   "source": [
    "## Legend guide\n",
    "http://matplotlib.org/users/legend_guide.html"
   ]
  },
  {
   "cell_type": "markdown",
   "metadata": {},
   "source": [
    "This guide makes use of some common terms, which are documented here for clarity:  \n",
    "\n",
    "legend entry  \n",
    "- A legend is made up of one or more legend entries. An entry is made up of exactly one key and one label.  \n",
    "\n",
    "legend key\n",
    "- The colored/patterned marker to the left of each legend label.  \n",
    "\n",
    "legend label\n",
    "- The text which describes the handle represented by the key.  \n",
    "\n",
    "legend handle\n",
    "- The original object which is used to generate an appropriate entry in the legend."
   ]
  },
  {
   "cell_type": "markdown",
   "metadata": {},
   "source": [
    "### Controlling the legend entries"
   ]
  },
  {
   "cell_type": "code",
   "execution_count": 46,
   "metadata": {
    "collapsed": false
   },
   "outputs": [
    {
     "data": {
      "text/plain": [
       "<matplotlib.legend.Legend at 0x7f8f48c14898>"
      ]
     },
     "execution_count": 46,
     "metadata": {},
     "output_type": "execute_result"
    }
   ],
   "source": [
    "handles, labels = ax.get_legend_handles_labels()\n",
    "ax.legend(handles, labels)"
   ]
  },
  {
   "cell_type": "markdown",
   "metadata": {},
   "source": [
    "The ***get_legend_handles_labels()*** function returns a list of handles/artists which exist on the Axes which can be used to generate entries for the resulting legend - it is worth noting however that ***not all artists can be added to a legend***, at which point a ***“proxy”*** will have to be created (see Creating artists specifically for adding to the legend (aka. Proxy artists) for further details).\n",
    "\n",
    "For full control of what is being added to the legend, it is common to pass the appropriate handles directly to legend():"
   ]
  },
  {
   "cell_type": "code",
   "execution_count": 47,
   "metadata": {
    "collapsed": false
   },
   "outputs": [
    {
     "data": {
      "text/plain": [
       "<matplotlib.legend.Legend at 0x7f8f48a89cf8>"
      ]
     },
     "execution_count": 47,
     "metadata": {},
     "output_type": "execute_result"
    },
    {
     "data": {
      "image/png": "[encoded data removed]",
      "text/plain": [
       "<matplotlib.figure.Figure at 0x7f8f48b973c8>"
      ]
     },
     "metadata": {},
     "output_type": "display_data"
    }
   ],
   "source": [
    "line_up, = plt.plot([1,2,3], label='Line 2')\n",
    "line_down, = plt.plot([3,2,1], label='Line 1')\n",
    "\n",
    "plt.legend(handles=[line_up, line_down])"
   ]
  },
  {
   "cell_type": "markdown",
   "metadata": {},
   "source": [
    "In some cases, it is not possible to set the label of the handle, so it is possible to pass through the list of labels to legend():"
   ]
  },
  {
   "cell_type": "code",
   "execution_count": 48,
   "metadata": {
    "collapsed": false
   },
   "outputs": [
    {
     "data": {
      "text/plain": [
       "<matplotlib.legend.Legend at 0x7f8f489c8ba8>"
      ]
     },
     "execution_count": 48,
     "metadata": {},
     "output_type": "execute_result"
    },
    {
     "data": {
      "image/png": "[encoded data removed]",
      "text/plain": [
       "<matplotlib.figure.Figure at 0x7f8f48a5b668>"
      ]
     },
     "metadata": {},
     "output_type": "display_data"
    }
   ],
   "source": [
    "line_up, = plt.plot([1,2,3], label='Line 2')\n",
    "line_down, = plt.plot([3,2,1], label='Line 1')\n",
    "plt.legend([line_up, line_down], ['Line 2', 'Line 1'])"
   ]
  },
  {
   "cell_type": "markdown",
   "metadata": {},
   "source": [
    "## Creating artists specifically for adding to the legend (aka. Proxy artists)"
   ]
  },
  {
   "cell_type": "markdown",
   "metadata": {},
   "source": [
    "Not all handles can be turned into legend entries automatically, so it is often necessary to create an artist which can. Legend handles don’t have to exists on the Figure or Axes in order to be used.\n",
    "\n",
    "Suppose we wanted to create a legend which has an entry for some data which is represented by a red color:"
   ]
  },
  {
   "cell_type": "code",
   "execution_count": 49,
   "metadata": {
    "collapsed": false
   },
   "outputs": [
    {
     "data": {
      "image/png": "[encoded data removed]",
      "text/plain": [
       "<matplotlib.figure.Figure at 0x7f8f48979c88>"
      ]
     },
     "metadata": {},
     "output_type": "display_data"
    }
   ],
   "source": [
    "import matplotlib.patches as mpatches \n",
    "\n",
    "red_patch = mpatches.Patch(color='red', label='The red data')\n",
    "plt.legend(handles=[red_patch])\n",
    "\n",
    "plt.show()"
   ]
  },
  {
   "cell_type": "markdown",
   "metadata": {},
   "source": [
    "There are many supported legend handles, instead of creating a patch of color we could have created a line with a marker:"
   ]
  },
  {
   "cell_type": "code",
   "execution_count": 50,
   "metadata": {
    "collapsed": false
   },
   "outputs": [
    {
     "data": {
      "image/png": "[encoded data removed]",
      "text/plain": [
       "<matplotlib.figure.Figure at 0x7f8f489551d0>"
      ]
     },
     "metadata": {},
     "output_type": "display_data"
    }
   ],
   "source": [
    "import matplotlib.lines as mlines \n",
    "\n",
    "blue_line = mlines.Line2D([], [], color='blue', marker='*', markersize=15, label='Blue stars')\n",
    "plt.legend(handles=[blue_line])\n",
    "\n",
    "plt.show()"
   ]
  },
  {
   "cell_type": "markdown",
   "metadata": {},
   "source": [
    "### Legend location"
   ]
  },
  {
   "cell_type": "markdown",
   "metadata": {},
   "source": [
    "The location of the legend can be specified by the keyword argument ***loc***. Please see the documentation at legend() for more details.\n",
    "\n",
    "The ***bbox_to_anchor*** keyword gives a great degree of control for manual legend placement. For example, if you want your axes legend located at the figure’s top right-hand corner instead of the axes’ corner, simply specify the corner’s location, and the ***coordinate system*** of that location:"
   ]
  },
  {
   "cell_type": "code",
   "execution_count": 51,
   "metadata": {
    "collapsed": false
   },
   "outputs": [
    {
     "data": {
      "image/png": "[encoded data removed]",
      "text/plain": [
       "<matplotlib.figure.Figure at 0x7f8f488adc18>"
      ]
     },
     "metadata": {},
     "output_type": "display_data"
    }
   ],
   "source": [
    "import matplotlib.patches as mpatches \n",
    "\n",
    "red_patch = mpatches.Patch(color='red', label='The red data') \n",
    "\n",
    "plt.legend(handles=[red_patch],\n",
    "           bbox_to_anchor=(1, 1),\n",
    "           bbox_transform=plt.gcf().transFigure) \n",
    "\n",
    "plt.show()"
   ]
  },
  {
   "cell_type": "markdown",
   "metadata": {},
   "source": [
    "More examples of custom legend placement:"
   ]
  },
  {
   "cell_type": "code",
   "execution_count": 52,
   "metadata": {
    "collapsed": false
   },
   "outputs": [
    {
     "data": {
      "image/png": "[encoded data removed]",
      "text/plain": [
       "<matplotlib.figure.Figure at 0x7f8f4883eb38>"
      ]
     },
     "metadata": {},
     "output_type": "display_data"
    }
   ],
   "source": [
    "plt.subplot(211)\n",
    "plt.plot([1,2,3], label=\"test1\")\n",
    "plt.plot([3,2,1], label=\"test2\")\n",
    "\n",
    "# Place a legend above this subplot, expanding itself to\n",
    "# fully use the given bounding box.\n",
    "plt.legend(bbox_to_anchor=(0., 1.02, 1., .102), \n",
    "           loc=3,\n",
    "           ncol=2, mode=\"expand\", borderaxespad=0.)\n",
    "\n",
    "plt.subplot(223)\n",
    "plt.plot([1,2,3], label=\"test1\")\n",
    "plt.plot([3,2,1], label=\"test2\")\n",
    "\n",
    "# Place a legend to the right of this smaller subplot.\n",
    "plt.legend(bbox_to_anchor=(1.05, 1), loc=2, borderaxespad=0.)\n",
    "\n",
    "plt.show()"
   ]
  },
  {
   "cell_type": "markdown",
   "metadata": {},
   "source": [
    "## Multiple legends on the same Axes"
   ]
  },
  {
   "cell_type": "markdown",
   "metadata": {},
   "source": [
    "Sometimes it is more clear to split legend entries across multiple legends. Whilst the instinctive approach to doing this might be to call the legend() function multiple times, you will find that only one legend ever exists on the Axes. This has been done so that it is possible to call legend() repeatedly to update the legend to the latest handles on the Axes, so ***to persist old legend instances, we must add them manually to the Axes***:\n",
    "\n"
   ]
  },
  {
   "cell_type": "code",
   "execution_count": 53,
   "metadata": {
    "collapsed": false
   },
   "outputs": [
    {
     "data": {
      "image/png": "[encoded data removed]",
      "text/plain": [
       "<matplotlib.figure.Figure at 0x7f8f48856898>"
      ]
     },
     "metadata": {},
     "output_type": "display_data"
    }
   ],
   "source": [
    "line1, = plt.plot([1,2,3], label=\"Line 1\", linestyle='--')\n",
    "line2, = plt.plot([3,2,1], label=\"Line 2\", linewidth=4)\n",
    "\n",
    "# Create a legend for the first line.\n",
    "first_legend = plt.legend(handles=[line1], loc=1)\n",
    "\n",
    "# Add the legend manually to the current Axes.\n",
    "ax = plt.gca().add_artist(first_legend)\n",
    "\n",
    "# Create another legend for the second line.\n",
    "plt.legend(handles=[line2], loc=4)\n",
    "\n",
    "plt.show()"
   ]
  },
  {
   "cell_type": "markdown",
   "metadata": {},
   "source": [
    "Legend Handlers\n",
    "In order to create legend entries, handles are given as an argument to an appropriate ***HandlerBase*** subclass. The choice of handler subclass is determined by the following rules:\n",
    "\n",
    "1. Update ***get_legend_handler_map()*** with the value in the handler_map keyword.\n",
    "2. Check if the handle is in the newly created ***handler_map***.\n",
    "3. Check if the ***type*** of handle is in the newly created handler_map.\n",
    "4. Check if any of the ***types in the handle‘s mro*** is in the newly created handler_map.  \n",
    "\n",
    "For completeness, this logic is mostly implemented in get_legend_handler().\n",
    "\n",
    "All of this flexibility means that we have the necessary hooks to implement custom handlers for our own type of legend key.\n",
    "\n",
    "The simplest example of using custom handlers is to instantiate one of the existing HandlerBase subclasses. For the sake of simplicity, let’s choose ***matplotlib.legend_handler.HandlerLine2D*** which accepts a numpoints argument (note numpoints is a keyword on the legend() function for convenience). We can then pass the mapping of instance to Handler as a keyword to legend."
   ]
  },
  {
   "cell_type": "code",
   "execution_count": 54,
   "metadata": {
    "collapsed": false
   },
   "outputs": [
    {
     "data": {
      "text/plain": [
       "<matplotlib.legend.Legend at 0x7f8f48696160>"
      ]
     },
     "execution_count": 54,
     "metadata": {},
     "output_type": "execute_result"
    },
    {
     "data": {
      "image/png": "[encoded data removed]",
      "text/plain": [
       "<matplotlib.figure.Figure at 0x7f8f48851b70>"
      ]
     },
     "metadata": {},
     "output_type": "display_data"
    }
   ],
   "source": [
    "from matplotlib.legend_handler import HandlerLine2D\n",
    "\n",
    "line1, = plt.plot([3,2,1], marker='o', label='Line 1')\n",
    "line2, = plt.plot([1,2,3], marker='o', label='Line 2')\n",
    "\n",
    "plt.legend(handler_map={line1: HandlerLine2D(numpoints=4)})"
   ]
  },
  {
   "cell_type": "markdown",
   "metadata": {},
   "source": [
    "As you can see, “Line 1” now has 4 marker points, where “Line 2” has 2 (the default). Try the above code, only change the map’s key from line1 to type(line1). Notice how now both Line2D instances get 4 markers."
   ]
  },
  {
   "cell_type": "markdown",
   "metadata": {},
   "source": [
    "Along with handlers for complex plot types such as errorbars, stem plots and histograms, the default handler_map has a special ***tuple handler (HandlerTuple)*** which simply plots the handles on top of one another for each item in the given tuple. The following example demonstrates ***combining two legend keys on top of one another***:"
   ]
  },
  {
   "cell_type": "code",
   "execution_count": 55,
   "metadata": {
    "collapsed": false
   },
   "outputs": [
    {
     "data": {
      "text/plain": [
       "<matplotlib.legend.Legend at 0x7f8f48a91c88>"
      ]
     },
     "execution_count": 55,
     "metadata": {},
     "output_type": "execute_result"
    },
    {
     "data": {
      "image/png": "[encoded data removed]",
      "text/plain": [
       "<matplotlib.figure.Figure at 0x7f8f48762550>"
      ]
     },
     "metadata": {},
     "output_type": "display_data"
    }
   ],
   "source": [
    "z = np.random.randn(10)\n",
    "\n",
    "red_dot, = plt.plot(z, \"ro\", markersize=15)\n",
    "# Put a white cross over some of the data.\n",
    "white_cross, = plt.plot(z[:5], \"w+\", markeredgewidth=3, markersize=15)\n",
    "\n",
    "plt.legend([red_dot, (red_dot, white_cross)], [\"Attr A\", \"Attr A+B\"])\n"
   ]
  },
  {
   "cell_type": "markdown",
   "metadata": {},
   "source": [
    "### Implementing a custom legend handler\n",
    "A custom handler can be implemented to turn any handle into a legend key (handles don’t necessarily need to be matplotlib artists). The handler must implement a “***legend_artist***” method which returns a single artist for the legend to use. Signature details about the “legend_artist” are documented at legend_artist()."
   ]
  },
  {
   "cell_type": "code",
   "execution_count": 56,
   "metadata": {
    "collapsed": false
   },
   "outputs": [
    {
     "data": {
      "text/plain": [
       "<matplotlib.legend.Legend at 0x7f8f4a6b5ef0>"
      ]
     },
     "execution_count": 56,
     "metadata": {},
     "output_type": "execute_result"
    },
    {
     "data": {
      "image/png": "[encoded data removed]",
      "text/plain": [
       "<matplotlib.figure.Figure at 0x7f8f48823dd8>"
      ]
     },
     "metadata": {},
     "output_type": "display_data"
    }
   ],
   "source": [
    "import matplotlib.patches as mpatches\n",
    "\n",
    "class AnyObject(object):\n",
    "    pass\n",
    "\n",
    "class AnyObjectHandler(object):\n",
    "    def legend_artist(self, legend, orig_handle, fontsize, handlebox):\n",
    "        x0, y0 = handlebox.xdescent, handlebox.ydescent\n",
    "        width, height = handlebox.width, handlebox.height\n",
    "        patch = mpatches.Rectangle([x0, y0], width, height, facecolor='red',\n",
    "                                   edgecolor='black', hatch='xx', lw=3,\n",
    "                                   transform=handlebox.get_transform())\n",
    "        handlebox.add_artist(patch)\n",
    "        return patch\n",
    "\n",
    "plt.legend(handles = [AnyObject()], labels = ['My first handler'],\n",
    "           handler_map={AnyObject: AnyObjectHandler()})"
   ]
  },
  {
   "cell_type": "markdown",
   "metadata": {},
   "source": [
    "Alternatively, had we wanted to globally accept AnyObject instances without needing to manually set the handler_map keyword all the time, we could have ***registered the new handler*** with:"
   ]
  },
  {
   "cell_type": "code",
   "execution_count": 57,
   "metadata": {
    "collapsed": true
   },
   "outputs": [],
   "source": [
    "from matplotlib.legend import Legend\n",
    "Legend.update_default_handler_map({AnyObject: AnyObjectHandler()})"
   ]
  },
  {
   "cell_type": "markdown",
   "metadata": {},
   "source": [
    "Whilst the power here is clear, remember that there are already many handlers implemented and what you want to achieve may already be easily possible with existing classes. For example, to produce elliptical legend keys, rather than rectangular ones:"
   ]
  },
  {
   "cell_type": "code",
   "execution_count": 58,
   "metadata": {
    "collapsed": false
   },
   "outputs": [
    {
     "data": {
      "text/plain": [
       "<matplotlib.legend.Legend at 0x7f8f48c147b8>"
      ]
     },
     "execution_count": 58,
     "metadata": {},
     "output_type": "execute_result"
    },
    {
     "data": {
      "image/png": "[encoded data removed]",
      "text/plain": [
       "<matplotlib.figure.Figure at 0x7f8f488bd4a8>"
      ]
     },
     "metadata": {},
     "output_type": "display_data"
    }
   ],
   "source": [
    "from matplotlib.legend_handler import HandlerPatch \n",
    "import matplotlib.patches as mpatches\n",
    "\n",
    "\n",
    "class HandlerEllipse(HandlerPatch):\n",
    "    def create_artists(self, legend, orig_handle,\n",
    "                       xdescent, ydescent, width, height, fontsize, trans):\n",
    "        center = 0.5 * width - 0.5 * xdescent, 0.5 * height - 0.5 * ydescent\n",
    "        p = mpatches.Ellipse(xy=center, width=width + xdescent,\n",
    "                             height=height + ydescent)\n",
    "        self.update_prop(p, orig_handle, legend)\n",
    "        p.set_transform(trans)\n",
    "        return [p]\n",
    "\n",
    "\n",
    "c = mpatches.Circle((0.5, 0.5), 0.25, facecolor=\"green\",\n",
    "                    edgecolor=\"red\", linewidth=3)\n",
    "plt.gca().add_patch(c)\n",
    "\n",
    "plt.legend([c], [\"An ellipse, not a rectangle\"],\n",
    "           handler_map={mpatches.Circle: HandlerEllipse()})"
   ]
  }
 ],
 "metadata": {
  "kernelspec": {
   "display_name": "Python 3",
   "language": "python",
   "name": "python3"
  },
  "language_info": {
   "codemirror_mode": {
    "name": "ipython",
    "version": 3
   },
   "file_extension": ".py",
   "mimetype": "text/x-python",
   "name": "python",
   "nbconvert_exporter": "python",
   "pygments_lexer": "ipython3",
   "version": "3.6.0"
  }
 },
 "nbformat": 4,
 "nbformat_minor": 2
}
