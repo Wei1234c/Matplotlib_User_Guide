{
 "cells": [
  {
   "cell_type": "markdown",
   "metadata": {},
   "source": [
    "# Working with text\n",
    "http://matplotlib.org/users/index_text.html"
   ]
  },
  {
   "cell_type": "code",
   "execution_count": 6,
   "metadata": {
    "collapsed": false
   },
   "outputs": [
    {
     "name": "stdout",
     "output_type": "stream",
     "text": [
      "Populating the interactive namespace from numpy and matplotlib\n"
     ]
    }
   ],
   "source": [
    "%pylab inline"
   ]
  },
  {
   "cell_type": "markdown",
   "metadata": {},
   "source": [
    "## Text introduction\n",
    "http://matplotlib.org/users/text_intro.html"
   ]
  },
  {
   "cell_type": "markdown",
   "metadata": {},
   "source": [
    "matplotlib has extensive text support, including support for mathematical expressions, truetype support for raster and vector outputs, newline separated text with arbitrary rotations, and unicode support. Because it embeds fonts directly in output documents, e.g., for postscript or PDF, what you see on the screen is what you get in the hardcopy. FreeType support produces very nice, antialiased fonts, that look good even at small raster sizes. matplotlib includes its own matplotlib.font_manager (thanks to Paul Barrett), which implements a cross platform, W3C compliant font finding algorithm.\n",
    "\n",
    "The user has a great deal of control over text properties (font size, font weight, text location and color, etc.) with sensible defaults set in the rc file. And significantly, for those interested in mathematical or scientific figures, matplotlib implements a large number of TeX math symbols and commands, supporting mathematical expressions anywhere in your figure."
   ]
  },
  {
   "cell_type": "markdown",
   "metadata": {},
   "source": [
    "### Basic text commands\n",
    "The following commands are used to create text in the pyplot interface\n",
    "```\n",
    "text() - add text at an arbitrary location to the Axes; matplotlib.axes.Axes.text() in the API.\n",
    "xlabel() - add a label to the x-axis; matplotlib.axes.Axes.set_xlabel() in the API.\n",
    "ylabel() - add a label to the y-axis; matplotlib.axes.Axes.set_ylabel() in the API.\n",
    "title() - add a title to the Axes; matplotlib.axes.Axes.set_title() in the API.\n",
    "figtext() - add text at an arbitrary location to the Figure; matplotlib.figure.Figure.text() in the API.\n",
    "suptitle() - add a title to the Figure; matplotlib.figure.Figure.suptitle() in the API.\n",
    "annotate() - add an annotation, with\n",
    "optional arrow, to the Axes ; matplotlib.axes.Axes.annotate() in the API.\n",
    "```\n",
    "\n",
    "All of these functions create and return a matplotlib.text.Text() instance, which can be configured with a variety of font and other properties. The example below shows all of these commands in action."
   ]
  },
  {
   "cell_type": "code",
   "execution_count": 7,
   "metadata": {
    "collapsed": false,
    "scrolled": true
   },
   "outputs": [
    {
     "data": {
      "image/png": "[encoded data removed]",
      "text/plain": [
       "<matplotlib.figure.Figure at 0x7f9cadbb3b00>"
      ]
     },
     "metadata": {},
     "output_type": "display_data"
    }
   ],
   "source": [
    "fig = plt.figure()\n",
    "fig.suptitle('bold figure suptitle', fontsize=14, fontweight='bold')\n",
    "\n",
    "ax = fig.add_subplot(111)\n",
    "fig.subplots_adjust(top=0.85)\n",
    "ax.set_title('axes title')\n",
    "\n",
    "ax.set_xlabel('xlabel')\n",
    "ax.set_ylabel('ylabel')\n",
    "\n",
    "ax.text(3, 8, 'boxed italics text in data coords', style='italic',\n",
    "        bbox={'facecolor':'red', 'alpha':0.5, 'pad':10})\n",
    "\n",
    "ax.text(2, 6, r'an equation: $E=mc^2$', fontsize=15)\n",
    "\n",
    "ax.text(3, 2, u'unicode: Institut f\\374r Festk\\366rperphysik')\n",
    "\n",
    "ax.text(0.95, 0.01, 'colored text in axes coords',\n",
    "        verticalalignment='bottom', horizontalalignment='right',\n",
    "        transform=ax.transAxes,\n",
    "        color='green', fontsize=15)\n",
    "\n",
    "\n",
    "ax.plot([2], [1], 'o')\n",
    "ax.annotate('annotate', xy=(2, 1), xytext=(3, 4),\n",
    "            arrowprops=dict(facecolor='black', shrink=0.05))\n",
    "\n",
    "ax.axis([0, 10, 0, 10])\n",
    "\n",
    "plt.show()"
   ]
  },
  {
   "cell_type": "markdown",
   "metadata": {},
   "source": [
    "## Text properties and layout\n",
    "http://matplotlib.org/users/text_props.html"
   ]
  },
  {
   "cell_type": "markdown",
   "metadata": {},
   "source": [
    "The matplotlib.text.Text instances have a variety of properties which can be configured via keyword arguments to the text commands (e.g., ***title(), xlabel() and text()***).\n",
    "```\n",
    "Property\tValue Type\n",
    "alpha\tfloat\n",
    "backgroundcolor\tany matplotlib color\n",
    "bbox\tRectangle prop dict plus key 'pad' which is a pad in points\n",
    "clip_box\ta matplotlib.transform.Bbox instance\n",
    "clip_on\t[True | False]\n",
    "clip_path\ta Path instance and a Transform instance, a Patch\n",
    "color\tany matplotlib color\n",
    "family\t[ 'serif' | 'sans-serif' | 'cursive' | 'fantasy' | 'monospace' ]\n",
    "fontproperties\ta FontProperties instance\n",
    "horizontalalignment or ha\t[ 'center' | 'right' | 'left' ]\n",
    "label\tany string\n",
    "linespacing\tfloat\n",
    "multialignment\t['left' | 'right' | 'center' ]\n",
    "name or fontname\tstring e.g., ['Sans' | 'Courier' | 'Helvetica' ...]\n",
    "picker\t[None|float|boolean|callable]\n",
    "position\t(x, y)\n",
    "rotation\t[ angle in degrees | 'vertical' | 'horizontal' ]\n",
    "size or fontsize\t[ size in points | relative size, e.g., 'smaller', 'x-large' ]\n",
    "style or fontstyle\t[ 'normal' | 'italic' | 'oblique' ]\n",
    "text\tstring or anything printable with ‘%s’ conversion\n",
    "transform\ta Transform instance\n",
    "variant\t[ 'normal' | 'small-caps' ]\n",
    "verticalalignment or va\t[ 'center' | 'top' | 'bottom' | 'baseline' ]\n",
    "visible\t[True | False]\n",
    "weight or fontweight\t[ 'normal' | 'bold' | 'heavy' | 'light' | 'ultrabold' | 'ultralight']\n",
    "x\tfloat\n",
    "y\tfloat\n",
    "zorder\tany number\n",
    "```\n",
    "\n",
    "You can lay out text with the alignment arguments ***horizontalalignment, verticalalignment***, and ***multialignment***. ***horizontalalignment*** controls whether the x positional argument for the text indicates the left, center or right side of the text bounding box. ***verticalalignment*** controls whether the y positional argument for the text indicates the bottom, center or top side of the text bounding box. multialignment, for newline separated strings only, controls whether the different lines are left, center or right justified. Here is an example which uses the text() command to show the various alignment possibilities. The use of ***transform=ax.transAxes*** throughout the code indicates that the coordinates are given relative to the axes bounding box, with 0,0 being the lower left of the axes and 1,1 the upper right.\n"
   ]
  },
  {
   "cell_type": "code",
   "execution_count": 8,
   "metadata": {
    "collapsed": false
   },
   "outputs": [
    {
     "data": {
      "image/png": "[encoded data removed]",
      "text/plain": [
       "<matplotlib.figure.Figure at 0x7f9caaf79080>"
      ]
     },
     "metadata": {},
     "output_type": "display_data"
    }
   ],
   "source": [
    "import matplotlib.patches as patches\n",
    "\n",
    "# build a rectangle in axes coords\n",
    "left, width = .25, .5\n",
    "bottom, height = .25, .5\n",
    "right = left + width\n",
    "top = bottom + height\n",
    "\n",
    "fig = plt.figure()\n",
    "ax = fig.add_axes([0,0,1,1])\n",
    "\n",
    "# axes coordinates are 0,0 is bottom left and 1,1 is upper right\n",
    "p = patches.Rectangle(\n",
    "    (left, bottom), width, height,\n",
    "    fill=False, transform=ax.transAxes, clip_on=False\n",
    "    )\n",
    "\n",
    "ax.add_patch(p)\n",
    "\n",
    "ax.text(left, bottom, 'left top',\n",
    "        horizontalalignment='left',\n",
    "        verticalalignment='top',\n",
    "        transform=ax.transAxes)\n",
    "\n",
    "ax.text(left, bottom, 'left bottom',\n",
    "        horizontalalignment='left',\n",
    "        verticalalignment='bottom',\n",
    "        transform=ax.transAxes)\n",
    "\n",
    "ax.text(right, top, 'right bottom',\n",
    "        horizontalalignment='right',\n",
    "        verticalalignment='bottom',\n",
    "        transform=ax.transAxes)\n",
    "\n",
    "ax.text(right, top, 'right top',\n",
    "        horizontalalignment='right',\n",
    "        verticalalignment='top',\n",
    "        transform=ax.transAxes)\n",
    "\n",
    "ax.text(right, bottom, 'center top',\n",
    "        horizontalalignment='center',\n",
    "        verticalalignment='top',\n",
    "        transform=ax.transAxes)\n",
    "\n",
    "ax.text(left, 0.5*(bottom+top), 'right center',\n",
    "        horizontalalignment='right',\n",
    "        verticalalignment='center',\n",
    "        rotation='vertical',\n",
    "        transform=ax.transAxes)\n",
    "\n",
    "ax.text(left, 0.5*(bottom+top), 'left center',\n",
    "        horizontalalignment='left',\n",
    "        verticalalignment='center',\n",
    "        rotation='vertical',\n",
    "        transform=ax.transAxes)\n",
    "\n",
    "import matplotlib.font_manager as fm\n",
    "prop = fm.FontProperties(fname='/usr/share/fonts/opentype/noto/NotoSansCJKtc-Light.otf')\n",
    "#         fontProperties = prop,\n",
    "# matplotlib.rcParams['font.sans-serif'] = ['Noto Sans CJK TC']\n",
    "\n",
    "t = ax.text(0.5*(left+right), 0.5*(bottom+top), 'middle 中間',\n",
    "        horizontalalignment='center',\n",
    "        verticalalignment='center', \n",
    "        fontProperties = prop,\n",
    "        fontsize=20, color='red',\n",
    "        transform=ax.transAxes)\n",
    "\n",
    "\n",
    "ax.text(right, 0.5*(bottom+top), 'centered',\n",
    "        horizontalalignment='center',\n",
    "        verticalalignment='center',\n",
    "        rotation='vertical',\n",
    "        transform=ax.transAxes)\n",
    "\n",
    "ax.text(left, top, 'rotated\\nwith newlines',\n",
    "        horizontalalignment='center',\n",
    "        verticalalignment='center',\n",
    "        rotation=45,\n",
    "        transform=ax.transAxes)\n",
    "\n",
    "ax.set_axis_off()\n",
    "plt.show()"
   ]
  },
  {
   "cell_type": "markdown",
   "metadata": {},
   "source": [
    "## Default Font\n",
    "http://matplotlib.org/users/text_props.html#default-font"
   ]
  },
  {
   "cell_type": "markdown",
   "metadata": {},
   "source": [
    "The base default font is controlled by a set of rcParams:\n",
    "```\n",
    "rcParam\tusage\n",
    "'font.family'\tList of either names of font or {'cursive', 'fantasy', 'monospace', 'sans', 'sans serif', 'sans-serif', 'serif'}.\n",
    "'font.style'\tThe default style, ex 'normal', 'italic'.\n",
    "'font.variant'\tDefault variant, ex 'normal', 'small-caps' (untested)\n",
    "'font.stretch'\tDefault stretch, ex 'normal', 'condensed' (incomplete)\n",
    "'font.weight'\tDefault weight. Either string or integer\n",
    "'font.size'\tDefault font size in points. Relative font sizes ('large', 'x-small') are computed against this size.\n",
    "```\n",
    "The mapping between the family aliases ({'cursive', 'fantasy', 'monospace', 'sans', 'sans serif', 'sans-serif', 'serif'}) and actual font names is controlled by the following rcParams:\n",
    "```\n",
    "family alias\trcParam with mappings\n",
    "'serif'\t'font.serif'\n",
    "'monospace'\t'font.monospace'\n",
    "'fantasy'\t'font.fantasy'\n",
    "'cursive'\t'font.cursive'\n",
    "{'sans', 'sans serif', 'sans-serif'}\t'font.sans-serif'\n",
    "```\n",
    "which are lists of font names."
   ]
  },
  {
   "cell_type": "markdown",
   "metadata": {},
   "source": [
    "### Text with non-latin glyphs"
   ]
  },
  {
   "cell_type": "markdown",
   "metadata": {},
   "source": [
    "As of v2.0 the default font contains glyphs for many western alphabets, but still does not cover all of the glyphs that may be required by mpl users. For example, DejaVu has no coverage of ***Chinese***, Korean, or Japanese.\n",
    "\n",
    "To set the default font to be one that supports the code points you need, prepend the font name to 'font.family' or the desired alias lists\n",
    "> matplotlib.rcParams['font.sans-serif'] = ['Source Han Sans TW', 'sans-serif']   # This doesn't work.\n",
    "\n",
    "or set it in your .matplotlibrc file:\n",
    "> font.sans-serif: Source Han Sans TW, Ariel, sans-serif   # This doesn't work.\n",
    "\n",
    "To control the font used on per-artist basis use the 'name', 'fontname' or 'fontproperties' kwargs documented above.\n",
    "\n",
    "On linux, ***fc-list*** can be a useful tool to discover the font name; for example\n",
    "```\n",
    "$ fc-list :lang=zh family\n",
    "Noto to Sans Mono CJK TC,Noto Sans Mono CJK TC Bold\n",
    "Noto Sans CJK TC,Noto Sans CJK TC Medium\n",
    "Noto Sans CJK TC,Noto Sans CJK TC DemiLight\n",
    "Noto Sans CJK KR,Noto Sans CJK KR Black\n",
    "Noto Sans CJK TC,Noto Sans CJK TC Black\n",
    "Noto Sans Mono CJK TC,Noto Sans Mono CJK TC Regular\n",
    "Noto Sans CJK SC,Noto Sans CJK SC Light\n",
    "```\n",
    "\n",
    "lists all of the fonts that support Chinese."
   ]
  },
  {
   "cell_type": "markdown",
   "metadata": {},
   "source": [
    "## Annotation\n",
    "http://matplotlib.org/users/annotations.html"
   ]
  },
  {
   "cell_type": "markdown",
   "metadata": {},
   "source": [
    "### Basic annotation"
   ]
  },
  {
   "cell_type": "markdown",
   "metadata": {},
   "source": [
    "The uses of the basic text() will place text at an arbitrary position on the Axes. A common use case of text is to annotate some feature of the plot, and the annotate() method provides helper functionality to make annotations easy. In an annotation, there are two points to consider: the location being annotated represented by the argument ***xy*** and the location of the text ***xytext***. Both of these arguments are (x,y) tuples."
   ]
  },
  {
   "cell_type": "code",
   "execution_count": 9,
   "metadata": {
    "collapsed": false
   },
   "outputs": [
    {
     "data": {
      "image/png": "[encoded data removed]",
      "text/plain": [
       "<matplotlib.figure.Figure at 0x7f9caaf6f1d0>"
      ]
     },
     "metadata": {},
     "output_type": "display_data"
    }
   ],
   "source": [
    "fig = plt.figure()\n",
    "ax = fig.add_subplot(111)\n",
    "\n",
    "t = np.arange(0.0, 5.0, 0.01)\n",
    "s = np.cos(2*np.pi*t)\n",
    "line, = ax.plot(t, s, lw=2)\n",
    "\n",
    "ax.annotate('local max', xy=(2, 1), xytext=(3, 1.5),\n",
    "            arrowprops=dict(facecolor='black', shrink=0.05),\n",
    "            )\n",
    "\n",
    "ax.set_ylim(-2,2)\n",
    "plt.show()"
   ]
  },
  {
   "cell_type": "markdown",
   "metadata": {},
   "source": [
    "In this example, both the xy (arrow tip) and xytext locations (text location) are in data coordinates. There are a variety of other coordinate systems one can choose – you can specify the coordinate system of xy and xytext with one of the following strings for xycoords and textcoords (default is ‘data’)\n",
    "```\n",
    "argument\tcoordinate system\n",
    "‘figure points’\tpoints from the lower left corner of the figure\n",
    "‘figure pixels’\tpixels from the lower left corner of the figure\n",
    "‘figure fraction’\t0,0 is lower left of figure and 1,1 is upper right\n",
    "‘axes points’\tpoints from lower left corner of axes\n",
    "‘axes pixels’\tpixels from lower left corner of axes\n",
    "‘axes fraction’\t0,0 is lower left of axes and 1,1 is upper right\n",
    "‘data’\tuse the axes data coordinate system\n",
    "\n",
    "```\n",
    "\n",
    "For example to place the text coordinates in fractional axes coordinates, one could do:\n",
    "> ax.annotate('local max', xy=(3, 1),  xycoords='data',\n",
    "            xytext=(0.8, 0.95), textcoords='axes fraction',\n",
    "            arrowprops=dict(facecolor='black', shrink=0.05),\n",
    "            horizontalalignment='right', verticalalignment='top',\n",
    "            )\n",
    "            \n",
    "For physical coordinate systems (points or pixels) the origin is the bottom-left of the figure or axes.\n",
    "\n",
    "Optionally, you can enable drawing of an arrow from the text to the annotated point by giving a dictionary of arrow properties in the optional keyword argument arrowprops.\n",
    "```\n",
    "arrowprops key\tdescription\n",
    "width\tthe width of the arrow in points\n",
    "frac\tthe fraction of the arrow length occupied by the head\n",
    "headwidth\tthe width of the base of the arrow head in points\n",
    "shrink\tmove the tip and base some percent away from the annotated point and text\n",
    "**kwargs\tany key for matplotlib.patches.Polygon, e.g., facecolor\n",
    "```\n",
    "In the example below, the xy point is in native coordinates (xycoords defaults to ‘data’). For a polar axes, this is in (theta, radius) space. The text in this example is placed in the fractional figure coordinate system. ***matplotlib.text.Text*** keyword args like horizontalalignment, verticalalignment and fontsize are passed from annotate to the Text instance.            "
   ]
  },
  {
   "cell_type": "code",
   "execution_count": 10,
   "metadata": {
    "collapsed": false
   },
   "outputs": [
    {
     "data": {
      "image/png": "[encoded data removed]",
      "text/plain": [
       "<matplotlib.figure.Figure at 0x7f9caad317f0>"
      ]
     },
     "metadata": {},
     "output_type": "display_data"
    }
   ],
   "source": [
    "fig = plt.figure()\n",
    "ax = fig.add_subplot(111, polar=True)\n",
    "\n",
    "r = np.arange(0,1,0.001)\n",
    "theta = 2*2*np.pi*r\n",
    "line, = ax.plot(theta, r, color='#ee8d18', lw=3)\n",
    "\n",
    "ind = 800\n",
    "thisr, thistheta = r[ind], theta[ind]\n",
    "ax.plot([thistheta], [thisr], 'o')\n",
    "\n",
    "ax.annotate('a polar annotation',\n",
    "            xy=(thistheta, thisr),  # theta, radius\n",
    "            xytext=(0.05, 0.05),    # fraction, fraction\n",
    "            textcoords='figure fraction',\n",
    "            arrowprops=dict(facecolor='black', shrink=0.05),\n",
    "            horizontalalignment='left',\n",
    "            verticalalignment='bottom',\n",
    "            )\n",
    "\n",
    "plt.show()"
   ]
  },
  {
   "cell_type": "markdown",
   "metadata": {},
   "source": [
    "## Advanced Annotation\n",
    "### Annotating with Text with Box"
   ]
  },
  {
   "cell_type": "code",
   "execution_count": 12,
   "metadata": {
    "collapsed": false
   },
   "outputs": [
    {
     "data": {
      "image/png": "[encoded data removed]",
      "text/plain": [
       "<matplotlib.figure.Figure at 0x7f9caad910b8>"
      ]
     },
     "metadata": {},
     "output_type": "display_data"
    }
   ],
   "source": [
    "fig = plt.figure(1, figsize=(5,5))\n",
    "fig.clf()\n",
    "\n",
    "ax = fig.add_subplot(111)\n",
    "ax.set_aspect(1)\n",
    "\n",
    "x1 = -1 + numpy.random.randn(100)\n",
    "y1 = -1 + numpy.random.randn(100)\n",
    "x2 = 1. + numpy.random.randn(100)\n",
    "y2 = 1. + numpy.random.randn(100)\n",
    "\n",
    "ax.scatter(x1, y1, color=\"r\")\n",
    "ax.scatter(x2, y2, color=\"g\")\n",
    "\n",
    "bbox_props = dict(boxstyle=\"round\", fc=\"w\", ec=\"0.5\", alpha=0.9)\n",
    "ax.text(-2, -2, \"Sample A\", ha=\"center\", va=\"center\", size=20,\n",
    "        bbox=bbox_props)\n",
    "\n",
    "ax.text(2, 2, \"Sample B\", ha=\"center\", va=\"center\", size=20,\n",
    "        bbox=bbox_props)\n",
    "\n",
    "\n",
    "bbox_props = dict(boxstyle=\"rarrow\", fc=(0.8,0.9,0.9), ec=\"b\", lw=2)\n",
    "t = ax.text(0, 0, \"Direction\", ha=\"center\", va=\"center\", rotation=45,\n",
    "            size=15,\n",
    "            bbox=bbox_props)\n",
    "\n",
    "bb = t.get_bbox_patch()\n",
    "bb.set_boxstyle(\"rarrow\", pad=0.6)\n",
    "\n",
    "ax.set_xlim(-4, 4)\n",
    "ax.set_ylim(-4, 4)\n",
    "\n",
    "plt.draw()\n",
    "plt.show()"
   ]
  },
  {
   "cell_type": "markdown",
   "metadata": {},
   "source": [
    "The text() function in the pyplot module (or text method of the Axes class) takes ***bbox*** keyword argument, and when given, a box around the text is drawn.\n",
    "\n",
    "> bbox_props = dict(boxstyle=\"rarrow,pad=0.3\", fc=\"cyan\", ec=\"b\", lw=2)\n",
    "> t = ax.text(0, 0, \"Direction\", ha=\"center\", va=\"center\", rotation=45, size=15, bbox=bbox_props)\n",
    "\n",
    "The patch object associated with the text can be accessed by:\n",
    "\n",
    "> bb = t.get_bbox_patch()\n",
    "\n",
    "The return value is an instance of FancyBboxPatch and the patch properties like facecolor, edgewidth, etc. can be accessed and modified as usual. To change the shape of the box, use the set_boxstyle method.\n",
    "\n",
    "> bb.set_boxstyle(\"rarrow\", pad=0.6)\n",
    "\n",
    "The arguments are the name of the box style with its attributes as keyword arguments. Currently, following box styles are implemented.\n",
    "```\n",
    "Class\tName\tAttrs\n",
    "Circle\tcircle\tpad=0.3\n",
    "DArrow\tdarrow\tpad=0.3\n",
    "LArrow\tlarrow\tpad=0.3\n",
    "RArrow\trarrow\tpad=0.3\n",
    "Round\tround\tpad=0.3,rounding_size=None\n",
    "Round4\tround4\tpad=0.3,rounding_size=None\n",
    "Roundtooth\troundtooth\tpad=0.3,tooth_size=None\n",
    "Sawtooth\tsawtooth\tpad=0.3,tooth_size=None\n",
    "Square\tsquare\tpad=0.3\n",
    "```"
   ]
  },
  {
   "cell_type": "code",
   "execution_count": 30,
   "metadata": {
    "collapsed": false
   },
   "outputs": [
    {
     "data": {
      "image/png": "[encoded data removed]",
      "text/plain": [
       "<matplotlib.figure.Figure at 0x7f9cab58dda0>"
      ]
     },
     "metadata": {},
     "output_type": "display_data"
    }
   ],
   "source": [
    "import matplotlib.patches as mpatch\n",
    "\n",
    "fig1 = plt.gcf()\n",
    "ax = plt.subplot()\n",
    "\n",
    "styles = mpatch.BoxStyle.get_styles()\n",
    "spacing = 1.2\n",
    "\n",
    "figheight = (spacing * len(styles) + .5)\n",
    "fig1 = plt.figure(1, (4/1.5, figheight/1.5))\n",
    "fontsize = 0.3 * 72\n",
    "\n",
    "for i, stylename in enumerate(sorted(styles.keys())):\n",
    "    fig1.text(0.5, (spacing * (float(len(styles)) - i) - 0.5)/figheight, stylename,\n",
    "              ha=\"center\",\n",
    "              size=fontsize,\n",
    "              transform=fig1.transFigure,\n",
    "              bbox=dict(boxstyle=stylename, fc=\"w\", ec=\"k\"))\n",
    "plt.draw()\n",
    "ax.set_axis_off()\n",
    "fig.set_tight_layout(ax)\n",
    "plt.show()"
   ]
  },
  {
   "cell_type": "markdown",
   "metadata": {},
   "source": [
    "Note that the attribute arguments can be specified within the style name with separating comma (this form can be used as “boxstyle” value of bbox argument when initializing the text instance)\n",
    "> bb.set_boxstyle(\"rarrow,pad=0.6\")"
   ]
  },
  {
   "cell_type": "markdown",
   "metadata": {},
   "source": [
    "### Annotating with Arrow¶\n"
   ]
  },
  {
   "cell_type": "markdown",
   "metadata": {},
   "source": [
    "The annotate() function in the pyplot module (or annotate method of the Axes class) is used to draw an arrow connecting two points on the plot.\n",
    "\n",
    "> ax.annotate(\"Annotation\", xy=(x1, y1), xycoords='data', xytext=(x2, y2), textcoords='offset points')\n",
    "\n",
    "This annotates a point at xy in the given coordinate (xycoords) with the text at xytext given in textcoords. Often, the annotated point is specified in the data coordinate and the annotating text in offset points. See annotate() for available coordinate systems.\n",
    "\n",
    "An arrow connecting two points (xy & xytext) can be optionally drawn by specifying the arrowprops argument. To draw only an arrow, use empty string as the first argument.\n",
    "\n",
    "> ax.annotate(\"\", xy=(0.2, 0.2), xycoords='data', xytext=(0.8, 0.8), textcoords='data', arrowprops=dict(arrowstyle=\"->\", connectionstyle=\"arc3\"))"
   ]
  },
  {
   "cell_type": "code",
   "execution_count": 31,
   "metadata": {
    "collapsed": false
   },
   "outputs": [
    {
     "data": {
      "image/png": "[encoded data removed]",
      "text/plain": [
       "<matplotlib.figure.Figure at 0x7f9cab6b86a0>"
      ]
     },
     "metadata": {},
     "output_type": "display_data"
    }
   ],
   "source": [
    "plt.figure(1, figsize=(3,3))\n",
    "ax = plt.subplot(111)\n",
    "\n",
    "ax.annotate(\"\",\n",
    "            xy=(0.2, 0.2), xycoords='data',\n",
    "            xytext=(0.8, 0.8), textcoords='data',\n",
    "            arrowprops=dict(arrowstyle=\"->\",\n",
    "                            connectionstyle=\"arc3\"), \n",
    "            )\n",
    "\n",
    "plt.show()"
   ]
  },
  {
   "cell_type": "markdown",
   "metadata": {},
   "source": [
    "The arrow drawing takes a few steps.\n",
    "\n",
    "1. a connecting path between two points are created. This is controlled by connectionstyle key value.\n",
    "2. If patch object is given (patchA & patchB), the path is clipped to avoid the patch.\n",
    "3. The path is further shrunk by given amount of pixels (shrinkA & shrinkB)\n",
    "4. The path is transmuted to arrow patch, which is controlled by the arrowstyle key value."
   ]
  },
  {
   "cell_type": "code",
   "execution_count": 33,
   "metadata": {
    "collapsed": false,
    "scrolled": true
   },
   "outputs": [
    {
     "data": {
      "image/png": "[encoded data removed]",
      "text/plain": [
       "<matplotlib.figure.Figure at 0x7f9cab505080>"
      ]
     },
     "metadata": {},
     "output_type": "display_data"
    }
   ],
   "source": [
    "import matplotlib.patches as mpatches\n",
    "\n",
    "x1, y1 = 0.3, 0.3\n",
    "x2, y2 = 0.7, 0.7\n",
    "\n",
    "fig = plt.figure(1, figsize=(8,3))\n",
    "fig.clf()\n",
    "from mpl_toolkits.axes_grid.axes_grid import AxesGrid\n",
    "from mpl_toolkits.axes_grid.anchored_artists import AnchoredText\n",
    "\n",
    "#from matplotlib.font_manager import FontProperties\n",
    "\n",
    "def add_at(ax, t, loc=2):\n",
    "    fp = dict(size=10)\n",
    "    _at = AnchoredText(t, loc=loc, prop=fp)\n",
    "    ax.add_artist(_at)\n",
    "    return _at\n",
    "\n",
    "\n",
    "grid = AxesGrid(fig, 111, (1, 4), label_mode=\"1\", share_all=True)\n",
    "\n",
    "grid[0].set_autoscale_on(False)\n",
    "\n",
    "ax = grid[0]\n",
    "ax.plot([x1, x2], [y1, y2], \".\")\n",
    "el = mpatches.Ellipse((x1, y1), 0.3, 0.4, angle=30, alpha=0.2)\n",
    "ax.add_artist(el)\n",
    "ax.annotate(\"\",\n",
    "            xy=(x1, y1), xycoords='data',\n",
    "            xytext=(x2, y2), textcoords='data',\n",
    "            arrowprops=dict(arrowstyle=\"-\", #linestyle=\"dashed\",\n",
    "                            color=\"0.5\",\n",
    "                            patchB=None,\n",
    "                            shrinkB=0,\n",
    "                            connectionstyle=\"arc3,rad=0.3\",\n",
    "                            ),\n",
    "            )\n",
    "\n",
    "add_at(ax, \"connect\", loc=2)\n",
    "\n",
    "ax = grid[1]\n",
    "ax.plot([x1, x2], [y1, y2], \".\")\n",
    "el = mpatches.Ellipse((x1, y1), 0.3, 0.4, angle=30, alpha=0.2)\n",
    "ax.add_artist(el)\n",
    "ax.annotate(\"\",\n",
    "            xy=(x1, y1), xycoords='data',\n",
    "            xytext=(x2, y2), textcoords='data',\n",
    "            arrowprops=dict(arrowstyle=\"-\", #linestyle=\"dashed\",\n",
    "                            color=\"0.5\",\n",
    "                            patchB=el,\n",
    "                            shrinkB=0,\n",
    "                            connectionstyle=\"arc3,rad=0.3\",\n",
    "                            ),\n",
    "            )\n",
    "\n",
    "add_at(ax, \"clip\", loc=2)\n",
    "\n",
    "\n",
    "ax = grid[2]\n",
    "ax.plot([x1, x2], [y1, y2], \".\")\n",
    "el = mpatches.Ellipse((x1, y1), 0.3, 0.4, angle=30, alpha=0.2)\n",
    "ax.add_artist(el)\n",
    "ax.annotate(\"\",\n",
    "            xy=(x1, y1), xycoords='data',\n",
    "            xytext=(x2, y2), textcoords='data',\n",
    "            arrowprops=dict(arrowstyle=\"-\", #linestyle=\"dashed\",\n",
    "                            color=\"0.5\",\n",
    "                            patchB=el,\n",
    "                            shrinkB=5,\n",
    "                            connectionstyle=\"arc3,rad=0.3\",\n",
    "                            ),\n",
    "            )\n",
    "\n",
    "add_at(ax, \"shrink\", loc=2)\n",
    "\n",
    "\n",
    "ax = grid[3]\n",
    "ax.plot([x1, x2], [y1, y2], \".\")\n",
    "el = mpatches.Ellipse((x1, y1), 0.3, 0.4, angle=30, alpha=0.2)\n",
    "ax.add_artist(el)\n",
    "ax.annotate(\"\",\n",
    "            xy=(x1, y1), xycoords='data',\n",
    "            xytext=(x2, y2), textcoords='data',\n",
    "            arrowprops=dict(arrowstyle=\"fancy\", #linestyle=\"dashed\",\n",
    "                            color=\"0.5\",\n",
    "                            patchB=el,\n",
    "                            shrinkB=5,\n",
    "                            connectionstyle=\"arc3,rad=0.3\",\n",
    "                            ),\n",
    "            )\n",
    "\n",
    "add_at(ax, \"mutate\", loc=2)\n",
    "\n",
    "grid[0].set_xlim(0, 1)\n",
    "grid[0].set_ylim(0, 1)\n",
    "grid[0].axis[\"bottom\"].toggle(ticklabels=False)\n",
    "grid[0].axis[\"left\"].toggle(ticklabels=False)\n",
    "fig.subplots_adjust(left=0.05, right=0.95, bottom=0.05, top=0.95)\n",
    "\n",
    "plt.draw()\n",
    "plt.show()"
   ]
  },
  {
   "cell_type": "markdown",
   "metadata": {},
   "source": [
    "The creation of the connecting path between two points is controlled by connectionstyle key and the following styles are available.\n",
    "```\n",
    "Name\tAttrs\n",
    "angle\tangleA=90,angleB=0,rad=0.0\n",
    "angle3\tangleA=90,angleB=0\n",
    "arc\tangleA=0,angleB=0,armA=None,armB=None,rad=0.0\n",
    "arc3\trad=0.0\n",
    "bar\tarmA=0.0,armB=0.0,fraction=0.3,angle=None\n",
    "\n",
    "```\n",
    "\n",
    "Note that “3” in angle3 and arc3 is meant to indicate that the resulting path is a quadratic spline segment (three control points). As will be discussed below, some arrow style options can only be used when the connecting path is a quadratic spline.\n",
    "\n",
    "The behavior of each connection style is (limitedly) demonstrated in the example below. (Warning : The behavior of the bar style is currently not well defined, it may be changed in the future)."
   ]
  },
  {
   "cell_type": "code",
   "execution_count": 34,
   "metadata": {
    "collapsed": false
   },
   "outputs": [
    {
     "data": {
      "image/png": "[encoded data removed]",
      "text/plain": [
       "<matplotlib.figure.Figure at 0x7f9cab3fc160>"
      ]
     },
     "metadata": {},
     "output_type": "display_data"
    }
   ],
   "source": [
    "import matplotlib.patches as mpatches\n",
    "\n",
    "fig = plt.figure(1, figsize=(8,5))\n",
    "fig.clf()\n",
    "from mpl_toolkits.axes_grid.axes_grid import AxesGrid\n",
    "from mpl_toolkits.axes_grid.anchored_artists import AnchoredText\n",
    "\n",
    "#from matplotlib.font_manager import FontProperties\n",
    "\n",
    "def add_at(ax, t, loc=2):\n",
    "    fp = dict(size=8)\n",
    "    _at = AnchoredText(t, loc=loc, prop=fp)\n",
    "    ax.add_artist(_at)\n",
    "    return _at\n",
    "\n",
    "\n",
    "grid = AxesGrid(fig, 111, (3, 5), label_mode=\"1\", share_all=True)\n",
    "\n",
    "grid[0].set_autoscale_on(False)\n",
    "\n",
    "\n",
    "x1, y1 = 0.3, 0.3\n",
    "x2, y2 = 0.7, 0.7\n",
    "\n",
    "\n",
    "def demo_con_style(ax, connectionstyle, label=None):\n",
    "\n",
    "    if label is None:\n",
    "        label = connectionstyle\n",
    "\n",
    "    x1, y1 = 0.3, 0.2\n",
    "    x2, y2 = 0.8, 0.6\n",
    "\n",
    "    ax.plot([x1, x2], [y1, y2], \".\")\n",
    "    ax.annotate(\"\",\n",
    "                xy=(x1, y1), xycoords='data',\n",
    "                xytext=(x2, y2), textcoords='data',\n",
    "                arrowprops=dict(arrowstyle=\"->\", #linestyle=\"dashed\",\n",
    "                                color=\"0.5\",\n",
    "                                shrinkA=5, shrinkB=5,\n",
    "                                patchA=None,\n",
    "                                patchB=None,\n",
    "                                connectionstyle=connectionstyle,\n",
    "                                ),\n",
    "                )\n",
    "\n",
    "    add_at(ax, label, loc=2)\n",
    "\n",
    "column = grid.axes_column[0]\n",
    "\n",
    "demo_con_style(column[0], \"angle3,angleA=90,angleB=0\",\n",
    "               label=\"angle3,\\nangleA=90,\\nangleB=0\")\n",
    "demo_con_style(column[1], \"angle3,angleA=0,angleB=90\",\n",
    "               label=\"angle3,\\nangleA=0,\\nangleB=90\")\n",
    "\n",
    "\n",
    "\n",
    "column = grid.axes_column[1]\n",
    "\n",
    "demo_con_style(column[0], \"arc3,rad=0.\")\n",
    "demo_con_style(column[1], \"arc3,rad=0.3\")\n",
    "demo_con_style(column[2], \"arc3,rad=-0.3\")\n",
    "\n",
    "\n",
    "\n",
    "column = grid.axes_column[2]\n",
    "\n",
    "demo_con_style(column[0], \"angle,angleA=-90,angleB=180,rad=0\",\n",
    "               label=\"angle,\\nangleA=-90,\\nangleB=180,\\nrad=0\")\n",
    "demo_con_style(column[1], \"angle,angleA=-90,angleB=180,rad=5\",\n",
    "               label=\"angle,\\nangleA=-90,\\nangleB=180,\\nrad=5\")\n",
    "demo_con_style(column[2], \"angle,angleA=-90,angleB=10,rad=5\",\n",
    "               label=\"angle,\\nangleA=-90,\\nangleB=10,\\nrad=0\")\n",
    "\n",
    "\n",
    "column = grid.axes_column[3]\n",
    "\n",
    "demo_con_style(column[0], \"arc,angleA=-90,angleB=0,armA=30,armB=30,rad=0\",\n",
    "               label=\"arc,\\nangleA=-90,\\nangleB=0,\\narmA=30,\\narmB=30,\\nrad=0\")\n",
    "demo_con_style(column[1], \"arc,angleA=-90,angleB=0,armA=30,armB=30,rad=5\",\n",
    "               label=\"arc,\\nangleA=-90,\\nangleB=0,\\narmA=30,\\narmB=30,\\nrad=5\")\n",
    "demo_con_style(column[2], \"arc,angleA=-90,angleB=0,armA=0,armB=40,rad=0\",\n",
    "               label=\"arc,\\nangleA=-90,\\nangleB=0,\\narmA=0,\\narmB=40,\\nrad=0\")\n",
    "\n",
    "\n",
    "column = grid.axes_column[4]\n",
    "\n",
    "demo_con_style(column[0], \"bar,fraction=0.3\",\n",
    "               label=\"bar,\\nfraction=0.3\")\n",
    "demo_con_style(column[1], \"bar,fraction=-0.3\",\n",
    "               label=\"bar,\\nfraction=-0.3\")\n",
    "demo_con_style(column[2], \"bar,angle=180,fraction=-0.2\",\n",
    "               label=\"bar,\\nangle=180,\\nfraction=-0.2\")\n",
    "\n",
    "\n",
    "#demo_con_style(column[1], \"arc3,rad=0.3\")\n",
    "#demo_con_style(column[2], \"arc3,rad=-0.3\")\n",
    "\n",
    "\n",
    "grid[0].set_xlim(0, 1)\n",
    "grid[0].set_ylim(0, 1)\n",
    "grid.axes_llc.axis[\"bottom\"].toggle(ticklabels=False)\n",
    "grid.axes_llc.axis[\"left\"].toggle(ticklabels=False)\n",
    "fig.subplots_adjust(left=0.05, right=0.95, bottom=0.05, top=0.95)\n",
    "\n",
    "plt.draw()\n",
    "plt.show()"
   ]
  },
  {
   "cell_type": "markdown",
   "metadata": {},
   "source": [
    "The connecting path (after clipping and shrinking) is then mutated to an arrow patch, according to the given arrowstyle.\n",
    "```\n",
    "Name\tAttrs\n",
    "-\tNone\n",
    "->\thead_length=0.4,head_width=0.2\n",
    "-[\twidthB=1.0,lengthB=0.2,angleB=None\n",
    "|-|\twidthA=1.0,widthB=1.0\n",
    "-|>\thead_length=0.4,head_width=0.2\n",
    "<-\thead_length=0.4,head_width=0.2\n",
    "<->\thead_length=0.4,head_width=0.2\n",
    "<|-\thead_length=0.4,head_width=0.2\n",
    "<|-|>\thead_length=0.4,head_width=0.2\n",
    "fancy\thead_length=0.4,head_width=0.4,tail_width=0.4\n",
    "simple\thead_length=0.5,head_width=0.5,tail_width=0.2\n",
    "wedge\ttail_width=0.3,shrink_factor=0.5\n",
    "```"
   ]
  },
  {
   "cell_type": "code",
   "execution_count": 35,
   "metadata": {
    "collapsed": false
   },
   "outputs": [
    {
     "data": {
      "image/png": "[encoded data removed]",
      "text/plain": [
       "<matplotlib.figure.Figure at 0x7f9caad27390>"
      ]
     },
     "metadata": {},
     "output_type": "display_data"
    }
   ],
   "source": [
    "import matplotlib.patches as mpatches\n",
    "\n",
    "styles = mpatches.ArrowStyle.get_styles()\n",
    "\n",
    "ncol = 2\n",
    "nrow = (len(styles) + 1) // ncol\n",
    "figheight = (nrow + 0.5)\n",
    "fig1 = plt.figure(1, (4.*ncol/1.5, figheight/1.5))\n",
    "fontsize = 0.2 * 70\n",
    "\n",
    "\n",
    "ax = fig1.add_axes([0, 0, 1, 1], frameon=False, aspect=1.)\n",
    "\n",
    "ax.set_xlim(0, 4*ncol)\n",
    "ax.set_ylim(0, figheight)\n",
    "\n",
    "\n",
    "def to_texstring(s):\n",
    "    s = s.replace(\"<\", r\"$<$\")\n",
    "    s = s.replace(\">\", r\"$>$\")\n",
    "    s = s.replace(\"|\", r\"$|$\")\n",
    "    return s\n",
    "\n",
    "for i, (stylename, styleclass) in enumerate(sorted(styles.items())):\n",
    "    x = 3.2 + (i//nrow)*4\n",
    "    y = (figheight - 0.7 - i % nrow)  # /figheight\n",
    "    p = mpatches.Circle((x, y), 0.2)\n",
    "    ax.add_patch(p)\n",
    "\n",
    "    ax.annotate(to_texstring(stylename), (x, y),\n",
    "                (x - 1.2, y),\n",
    "                #xycoords=\"figure fraction\", textcoords=\"figure fraction\",\n",
    "                ha=\"right\", va=\"center\",\n",
    "                size=fontsize,\n",
    "                arrowprops=dict(arrowstyle=stylename,\n",
    "                                patchB=p,\n",
    "                                shrinkA=5,\n",
    "                                shrinkB=5,\n",
    "                                fc=\"k\", ec=\"k\",\n",
    "                                connectionstyle=\"arc3,rad=-0.05\",\n",
    "                                ),\n",
    "                bbox=dict(boxstyle=\"square\", fc=\"w\"))\n",
    "\n",
    "ax.xaxis.set_visible(False)\n",
    "ax.yaxis.set_visible(False)\n",
    "\n",
    "\n",
    "plt.draw()\n",
    "plt.show()"
   ]
  },
  {
   "cell_type": "markdown",
   "metadata": {},
   "source": [
    "Some arrowstyles only work with connection styles that generate a quadratic-spline segment. They are ***fancy, simple, and wedge***. For these arrow styles, you must use the “angle3” or “arc3” connection style.\n",
    "\n",
    "If the annotation string is given, the patchA is set to the bbox patch of the text by default."
   ]
  },
  {
   "cell_type": "code",
   "execution_count": 36,
   "metadata": {
    "collapsed": false
   },
   "outputs": [
    {
     "data": {
      "image/png": "[encoded data removed]",
      "text/plain": [
       "<matplotlib.figure.Figure at 0x7f9ca9a5efd0>"
      ]
     },
     "metadata": {},
     "output_type": "display_data"
    }
   ],
   "source": [
    "plt.figure(1, figsize=(3,3))\n",
    "ax = plt.subplot(111)\n",
    "\n",
    "ax.annotate(\"Test\",\n",
    "            xy=(0.2, 0.2), xycoords='data',\n",
    "            xytext=(0.8, 0.8), textcoords='data',\n",
    "            size=20, va=\"center\", ha=\"center\",\n",
    "            arrowprops=dict(arrowstyle=\"simple\",\n",
    "                            connectionstyle=\"arc3,rad=-0.2\"), \n",
    "            )\n",
    "\n",
    "plt.show()"
   ]
  },
  {
   "cell_type": "markdown",
   "metadata": {},
   "source": [
    "As in the text command, a box around the text can be drawn using the bbox argument."
   ]
  },
  {
   "cell_type": "code",
   "execution_count": 37,
   "metadata": {
    "collapsed": false
   },
   "outputs": [
    {
     "data": {
      "image/png": "[encoded data removed]",
      "text/plain": [
       "<matplotlib.figure.Figure at 0x7f9ca9a8ca20>"
      ]
     },
     "metadata": {},
     "output_type": "display_data"
    }
   ],
   "source": [
    "plt.figure(1, figsize=(3,3))\n",
    "ax = plt.subplot(111)\n",
    "\n",
    "ann = ax.annotate(\"Test\",\n",
    "                  xy=(0.2, 0.2), xycoords='data',\n",
    "                  xytext=(0.8, 0.8), textcoords='data',\n",
    "                  size=20, va=\"center\", ha=\"center\",\n",
    "                  bbox=dict(boxstyle=\"round4\", fc=\"w\"),\n",
    "                  arrowprops=dict(arrowstyle=\"-|>\",\n",
    "                                  connectionstyle=\"arc3,rad=-0.2\",\n",
    "                                  fc=\"w\"), \n",
    "                  )\n",
    "\n",
    "plt.show()"
   ]
  },
  {
   "cell_type": "markdown",
   "metadata": {},
   "source": [
    "By default, the starting point is set to the center of the text extent. This can be adjusted with relpos key value. The values are normalized to the extent of the text. For example, (0,0) means lower-left corner and (1,1) means top-right."
   ]
  },
  {
   "cell_type": "code",
   "execution_count": 38,
   "metadata": {
    "collapsed": false
   },
   "outputs": [
    {
     "data": {
      "image/png": "[encoded data removed]",
      "text/plain": [
       "<matplotlib.figure.Figure at 0x7f9ca99bb5f8>"
      ]
     },
     "metadata": {},
     "output_type": "display_data"
    }
   ],
   "source": [
    "plt.figure(1, figsize=(3,3))\n",
    "ax = plt.subplot(111)\n",
    "\n",
    "ann = ax.annotate(\"Test\",\n",
    "                  xy=(0.2, 0.2), xycoords='data',\n",
    "                  xytext=(0.8, 0.8), textcoords='data',\n",
    "                  size=20, va=\"center\", ha=\"center\",\n",
    "                  bbox=dict(boxstyle=\"round4\", fc=\"w\"),\n",
    "                  arrowprops=dict(arrowstyle=\"-|>\",\n",
    "                                  connectionstyle=\"arc3,rad=0.2\",\n",
    "                                  relpos=(0., 0.),\n",
    "                                  fc=\"w\"), \n",
    "                  )\n",
    "\n",
    "ann = ax.annotate(\"Test\",\n",
    "                  xy=(0.2, 0.2), xycoords='data',\n",
    "                  xytext=(0.8, 0.8), textcoords='data',\n",
    "                  size=20, va=\"center\", ha=\"center\",\n",
    "                  bbox=dict(boxstyle=\"round4\", fc=\"w\"),\n",
    "                  arrowprops=dict(arrowstyle=\"-|>\",\n",
    "                                  connectionstyle=\"arc3,rad=-0.2\",\n",
    "                                  relpos=(1., 0.),\n",
    "                                  fc=\"w\"), \n",
    "                  )\n",
    "\n",
    "plt.show()"
   ]
  },
  {
   "cell_type": "markdown",
   "metadata": {},
   "source": [
    "### Placing Artist at the anchored location of the Axes"
   ]
  },
  {
   "cell_type": "markdown",
   "metadata": {},
   "source": [
    "There are classes of artists that can be placed at an anchored location in the Axes. A common example is the legend. This type of artist can be created by using the OffsetBox class. A few predefined classes are available in ***mpl_toolkits.axes_grid.anchored_artists***."
   ]
  },
  {
   "cell_type": "code",
   "execution_count": 41,
   "metadata": {
    "collapsed": false
   },
   "outputs": [
    {
     "data": {
      "image/png": "[encoded data removed]",
      "text/plain": [
       "<matplotlib.figure.Figure at 0x7f9cab6a5b70>"
      ]
     },
     "metadata": {},
     "output_type": "display_data"
    }
   ],
   "source": [
    "from mpl_toolkits.axes_grid.anchored_artists import AnchoredText\n",
    "\n",
    "fig=plt.figure(1, figsize=(3,3))\n",
    "ax = plt.subplot(111)\n",
    "\n",
    "at = AnchoredText(\"Figure 1a\",\n",
    "                  prop=dict(size=15), frameon=True,\n",
    "                  loc=2, \n",
    "                  )\n",
    "at.patch.set_boxstyle(\"round,pad=0.,rounding_size=0.2\")\n",
    "\n",
    "ax.add_artist(at)\n",
    "plt.show()"
   ]
  },
  {
   "cell_type": "markdown",
   "metadata": {},
   "source": [
    "The loc keyword has same meaning as in the legend command.\n",
    "\n",
    "A simple application is when the size of the artist (or collection of artists) is known in pixel size during the time of creation. For example, If you want to draw a circle with fixed size of 20 pixel x 20 pixel (radius = 10 pixel), you can utilize AnchoredDrawingArea. The instance is created with a size of the drawing area (in pixels), and arbitrary artists can added to the drawing area. Note that the extents of the artists that are added to the drawing area are not related to the placement of the drawing area itself. Only the initial size matters."
   ]
  },
  {
   "cell_type": "code",
   "execution_count": 42,
   "metadata": {
    "collapsed": false
   },
   "outputs": [
    {
     "data": {
      "image/png": "[encoded data removed]",
      "text/plain": [
       "<matplotlib.figure.Figure at 0x7f9ca9a26cf8>"
      ]
     },
     "metadata": {},
     "output_type": "display_data"
    }
   ],
   "source": [
    "from matplotlib.patches import Circle \n",
    "from mpl_toolkits.axes_grid.anchored_artists import AnchoredDrawingArea\n",
    "\n",
    "fig=plt.figure(1, figsize=(3,3))\n",
    "ax = plt.subplot(111)\n",
    "\n",
    "p1 = Circle((10, 10), 10)\n",
    "p2 = Circle((30, 10), 5, fc=\"r\")\n",
    "\n",
    "ada = AnchoredDrawingArea(40, 20, 0, 0,\n",
    "                          loc=1, pad=0., frameon=False)\n",
    "ada.drawing_area.add_artist(p1)\n",
    "ada.drawing_area.add_artist(p2)\n",
    "\n",
    "ax.add_artist(ada)\n",
    "\n",
    "plt.show()"
   ]
  },
  {
   "cell_type": "markdown",
   "metadata": {},
   "source": [
    "The artists that are added to the drawing area should not have a transform set (it will be overridden) and the dimensions of those artists are interpreted ***as a pixel coordinate***, i.e., the radius of the circles in above example are 10 pixels and 5 pixels, respectively."
   ]
  },
  {
   "cell_type": "markdown",
   "metadata": {},
   "source": [
    "Sometimes, you want your artists to scale with the data coordinate (or coordinates other than canvas pixels). You can use ***AnchoredAuxTransformBox*** class. This is similar to AnchoredDrawingArea except that the extent of the artist is determined during the drawing time respecting the specified transform."
   ]
  },
  {
   "cell_type": "code",
   "execution_count": 43,
   "metadata": {
    "collapsed": false
   },
   "outputs": [
    {
     "data": {
      "image/png": "[encoded data removed]",
      "text/plain": [
       "<matplotlib.figure.Figure at 0x7f9ca9a0bb38>"
      ]
     },
     "metadata": {},
     "output_type": "display_data"
    }
   ],
   "source": [
    "from matplotlib.patches import Ellipse \n",
    "from mpl_toolkits.axes_grid.anchored_artists import AnchoredAuxTransformBox\n",
    "\n",
    "fig=plt.figure(1, figsize=(3,3))\n",
    "ax = plt.subplot(111)\n",
    "\n",
    "el = Ellipse((0,0), width=0.1, height=0.4, angle=30) # in data coordinates!\n",
    "\n",
    "box = AnchoredAuxTransformBox(ax.transData, loc=2)\n",
    "box.drawing_area.add_artist(el)\n",
    "\n",
    "ax.add_artist(box)\n",
    "plt.show()"
   ]
  },
  {
   "cell_type": "markdown",
   "metadata": {},
   "source": [
    "The ellipse in the above example will have width and height corresponding to 0.1 and 0.4 in data coordinateing and ***will be automatically scaled*** when the view limits of the axes change."
   ]
  },
  {
   "cell_type": "markdown",
   "metadata": {},
   "source": [
    "As in the legend, the ***bbox_to_anchor*** argument can be set. Using the ***HPacker*** and ***VPacker***, you can have an arrangement(?) of artist as in the legend (as a matter of fact, this is how the legend is created)."
   ]
  },
  {
   "cell_type": "code",
   "execution_count": 44,
   "metadata": {
    "collapsed": false
   },
   "outputs": [
    {
     "data": {
      "image/png": "[encoded data removed]",
      "text/plain": [
       "<matplotlib.figure.Figure at 0x7f9ca9981588>"
      ]
     },
     "metadata": {},
     "output_type": "display_data"
    }
   ],
   "source": [
    "from matplotlib.patches import Ellipse \n",
    "from matplotlib.offsetbox import AnchoredOffsetbox, TextArea, DrawingArea, HPacker\n",
    "\n",
    "fig=plt.figure(1, figsize=(3,3))\n",
    "ax = plt.subplot(111)\n",
    "\n",
    "el1 = Ellipse((10, 10), width=16, height=5, angle=30, fc=\"r\")\n",
    "el2 = Ellipse((30, 10), width=16, height=5, angle=170, fc=\"g\") \n",
    "el3 = Ellipse((50, 10), width=16, height=5, angle=230, fc=\"b\") \n",
    "\n",
    "box1 = TextArea(\" Test : \", textprops=dict(color=\"k\"))\n",
    "\n",
    "box2 = DrawingArea(60, 20, 0, 0)\n",
    "box2.add_artist(el1)\n",
    "box2.add_artist(el2)\n",
    "box2.add_artist(el3)\n",
    "\n",
    "\n",
    "box = HPacker(children=[box1, box2],\n",
    "              align=\"center\",\n",
    "              pad=0, sep=5)\n",
    "\n",
    "anchored_box = AnchoredOffsetbox(loc=3,\n",
    "                                 child=box, pad=0.,\n",
    "                                 frameon=True,\n",
    "                                 bbox_to_anchor=(0., 1.02),\n",
    "                                 bbox_transform=ax.transAxes,\n",
    "                                 borderpad=0.,\n",
    "                                 )\n",
    "\n",
    "\n",
    "ax.add_artist(anchored_box)\n",
    "\n",
    "fig.subplots_adjust(top=0.8)\n",
    "plt.show()"
   ]
  },
  {
   "cell_type": "markdown",
   "metadata": {},
   "source": [
    "### Using Complex Coordinates with Annotations"
   ]
  },
  {
   "cell_type": "markdown",
   "metadata": {},
   "source": [
    "The Annotation in matplotlib supports several types of coordinates as described in Basic annotation. For an advanced user who wants more control, it supports a few other options."
   ]
  },
  {
   "cell_type": "markdown",
   "metadata": {},
   "source": [
    "1. Transform instance. For example,\n",
    "\n",
    "> ax.annotate(\"Test\", xy=(0.5, 0.5), xycoords=ax.transAxes)\n",
    "\n",
    "is identical to\n",
    "\n",
    "> ax.annotate(\"Test\", xy=(0.5, 0.5), xycoords=\"axes fraction\")\n",
    "\n",
    "With this, you can annotate a point in other axes.  \n",
    "```\n",
    "ax1, ax2 = subplot(121), subplot(122)\n",
    "ax2.annotate(\"Test\", xy=(0.5, 0.5), xycoords=ax1.transData,\n",
    "             xytext=(0.5, 0.5), textcoords=ax2.transData,\n",
    "             arrowprops=dict(arrowstyle=\"->\"))\n",
    "\n",
    "```\n",
    "2. Artist instance. The xy value (or xytext) is interpreted as a fractional coordinate of the bbox (return value of get_window_extent) of the artist.  \n",
    "\n",
    "```\n",
    "an1 = ax.annotate(\"Test 1\", xy=(0.5, 0.5), xycoords=\"data\",\n",
    "                  va=\"center\", ha=\"center\",\n",
    "                  bbox=dict(boxstyle=\"round\", fc=\"w\"))\n",
    "                  \n",
    "an2 = ax.annotate(\"Test 2\", xy=(1, 0.5), xycoords=an1, # (1,0.5) of the an1's bbox\n",
    "                  xytext=(30,0), textcoords=\"offset points\",\n",
    "                  va=\"center\", ha=\"left\",\n",
    "                  bbox=dict(boxstyle=\"round\", fc=\"w\"),\n",
    "                  arrowprops=dict(arrowstyle=\"->\"))\n",
    "```"
   ]
  },
  {
   "cell_type": "code",
   "execution_count": 48,
   "metadata": {
    "collapsed": false
   },
   "outputs": [
    {
     "data": {
      "image/png": "[encoded data removed]",
      "text/plain": [
       "<matplotlib.figure.Figure at 0x7f9caaec9a58>"
      ]
     },
     "metadata": {},
     "output_type": "display_data"
    }
   ],
   "source": [
    "plt.figure(figsize=(3,2))\n",
    "ax=plt.subplot(111)\n",
    "\n",
    "an1 = ax.annotate(\"Test 1\", xy=(0.5, 0.5), xycoords=\"data\",\n",
    "                  va=\"center\", ha=\"center\",\n",
    "                  bbox=dict(boxstyle=\"round\", fc=\"w\"))\n",
    "\n",
    "an2 = ax.annotate(\"Test 2\", xy=(1, 0.5), xycoords=an1,\n",
    "                  xytext=(30,0), textcoords=\"offset points\",\n",
    "                  va=\"center\", ha=\"left\",\n",
    "                  bbox=dict(boxstyle=\"round\", fc=\"w\"),\n",
    "                  arrowprops=dict(arrowstyle=\"->\"))\n",
    "plt.show()"
   ]
  },
  {
   "cell_type": "markdown",
   "metadata": {},
   "source": [
    "Note that it is your responsibility that the extent of the coordinate artist (an1 in above example) is determined before an2 gets drawn. In most cases, it means that an2 needs to be drawn later than an1.  \n",
    "\n",
    "3. A callable object that returns an instance of either BboxBase or Transform. If a transform is returned, it is the same as 1 and if a bbox is returned, it is the same as 2. The callable object should take a single argument of the renderer instance. For example, the following two commands give identical results  \n",
    "\n",
    "```\n",
    "an2 = ax.annotate(\"Test 2\", xy=(1, 0.5), xycoords=an1,\n",
    "                  xytext=(30,0), textcoords=\"offset points\")\n",
    "an2 = ax.annotate(\"Test 2\", xy=(1, 0.5), xycoords=an1.get_window_extent,\n",
    "                  xytext=(30,0), textcoords=\"offset points\")\n",
    "```\n",
    "\n",
    "4. A tuple of two coordinate specifications. The first item is for the x-coordinate and the second is for the y-coordinate. For example,\n",
    "> annotate(\"Test\", xy=(0.5, 1), xycoords=(\"data\", \"axes fraction\"))\n",
    "\n",
    "0.5 is in data coordinates, and 1 is in normalized axes coordinates. You may use an artist or transform as with a tuple. For example,"
   ]
  },
  {
   "cell_type": "code",
   "execution_count": 50,
   "metadata": {
    "collapsed": false
   },
   "outputs": [
    {
     "data": {
      "image/png": "[encoded data removed]",
      "text/plain": [
       "<matplotlib.figure.Figure at 0x7f9ca9981390>"
      ]
     },
     "metadata": {},
     "output_type": "display_data"
    }
   ],
   "source": [
    "plt.figure(figsize=(3,2))\n",
    "ax=plt.axes([0.1, 0.1, 0.8, 0.7])\n",
    "an1 = ax.annotate(\"Test 1\", xy=(0.5, 0.5), xycoords=\"data\",\n",
    "                  va=\"center\", ha=\"center\",\n",
    "                  bbox=dict(boxstyle=\"round\", fc=\"w\"))\n",
    "\n",
    "an2 = ax.annotate(\"Test 2\", xy=(0.5, 1.), xycoords=an1,\n",
    "                  xytext=(0.5,1.1), textcoords=(an1, \"axes fraction\"),\n",
    "                  va=\"bottom\", ha=\"center\",\n",
    "                  bbox=dict(boxstyle=\"round\", fc=\"w\"),\n",
    "                  arrowprops=dict(arrowstyle=\"->\"))\n",
    "plt.show()"
   ]
  },
  {
   "cell_type": "markdown",
   "metadata": {},
   "source": [
    "5. Sometimes, you want your annotation with some “offset points”, not from the annotated point but from some other point. OffsetFrom is a helper class for such cases."
   ]
  },
  {
   "cell_type": "code",
   "execution_count": 52,
   "metadata": {
    "collapsed": false
   },
   "outputs": [
    {
     "data": {
      "image/png": "[encoded data removed]",
      "text/plain": [
       "<matplotlib.figure.Figure at 0x7f9ca9745cf8>"
      ]
     },
     "metadata": {},
     "output_type": "display_data"
    }
   ],
   "source": [
    "plt.figure(figsize=(3,2))\n",
    "ax=plt.axes([0.1, 0.1, 0.8, 0.7])\n",
    "an1 = ax.annotate(\"Test 1\", xy=(0.5, 0.5), xycoords=\"data\",\n",
    "                  va=\"center\", ha=\"center\",\n",
    "                  bbox=dict(boxstyle=\"round\", fc=\"w\"))\n",
    "\n",
    "from matplotlib.text import OffsetFrom\n",
    "offset_from = OffsetFrom(an1, (0.5, 0))\n",
    "an2 = ax.annotate(\"Test 2\", xy=(0.1, 0.1), xycoords=\"data\",\n",
    "                  xytext=(0, -10), textcoords=offset_from,\n",
    "                  # xytext is offset points from \"xy=(0.5, 0), xycoords=an1\"\n",
    "                  va=\"top\", ha=\"center\",\n",
    "                  bbox=dict(boxstyle=\"round\", fc=\"w\"),\n",
    "                  arrowprops=dict(arrowstyle=\"->\"))\n",
    "plt.show()"
   ]
  },
  {
   "cell_type": "markdown",
   "metadata": {},
   "source": [
    "### Using ConnectorPatch"
   ]
  },
  {
   "cell_type": "markdown",
   "metadata": {},
   "source": [
    "The ConnectorPatch is like an annotation without text. While the annotate function is recommended in most situations, the ConnectorPatch is useful when you want to connect points in different axes.\n",
    "```\n",
    "from matplotlib.patches import ConnectionPatch\n",
    "xy = (0.2, 0.2)\n",
    "con = ConnectionPatch(xyA=xy, xyB=xy, coordsA=\"data\", coordsB=\"data\",\n",
    "                      axesA=ax1, axesB=ax2)\n",
    "ax2.add_artist(con)\n",
    "```\n",
    "The above code connects point xy in the data coordinates of ax1 to point xy in the data coordinates of ax2. Here is a simple example."
   ]
  },
  {
   "cell_type": "code",
   "execution_count": 53,
   "metadata": {
    "collapsed": false
   },
   "outputs": [
    {
     "data": {
      "image/png": "[encoded data removed]",
      "text/plain": [
       "<matplotlib.figure.Figure at 0x7f9ca974e0b8>"
      ]
     },
     "metadata": {},
     "output_type": "display_data"
    }
   ],
   "source": [
    "from matplotlib.patches import ConnectionPatch \n",
    "\n",
    "fig = plt.figure(1, figsize=(6,3))\n",
    "ax1 = plt.subplot(121)\n",
    "xyA=(0.2, 0.2)\n",
    "xyB=(0.8, 0.8)\n",
    "coordsA=\"data\"\n",
    "coordsB=\"data\"\n",
    "con = ConnectionPatch(xyA, xyB, coordsA, coordsB,\n",
    "                      arrowstyle=\"-|>\", shrinkA=5, shrinkB=5,\n",
    "                      mutation_scale=20, fc=\"w\")\n",
    "\n",
    "ax1.plot([xyA[0], xyB[0]], [xyA[1], xyB[1]], \"o\")\n",
    "ax1.add_artist(con)\n",
    "\n",
    "ax2 = plt.subplot(122)\n",
    "#xyA=(0.7, 0.7)\n",
    "xy=(0.3, 0.2)\n",
    "coordsA=\"data\"\n",
    "coordsB=\"data\"\n",
    "con = ConnectionPatch(xyA=xy, xyB=xy, coordsA=coordsA, coordsB=coordsB,\n",
    "                      axesA=ax2, axesB=ax1,\n",
    "                      arrowstyle=\"->\", shrinkB=5)\n",
    "ax2.add_artist(con)\n",
    "\n",
    "ax1.set_xlim(0, 1)\n",
    "ax1.set_ylim(0, 1)\n",
    "ax2.set_xlim(0, .5)\n",
    "ax2.set_ylim(0, .5)\n",
    "plt.draw()\n",
    "plt.show()"
   ]
  },
  {
   "cell_type": "markdown",
   "metadata": {},
   "source": [
    "### Zoom effect between Axes"
   ]
  },
  {
   "cell_type": "markdown",
   "metadata": {},
   "source": [
    "***mpl_toolkits.axes_grid.inset_locator*** defines some patch classes useful for interconnecting two axes. Understanding the code requires some knowledge of how mpl’s transform works. But, utilizing it will be straight forward."
   ]
  },
  {
   "cell_type": "code",
   "execution_count": 54,
   "metadata": {
    "collapsed": false
   },
   "outputs": [
    {
     "data": {
      "image/png": "[encoded data removed]",
      "text/plain": [
       "<matplotlib.figure.Figure at 0x7f9ca95f8f28>"
      ]
     },
     "metadata": {},
     "output_type": "display_data"
    }
   ],
   "source": [
    "from matplotlib.transforms import Bbox, TransformedBbox, blended_transform_factory\n",
    "from mpl_toolkits.axes_grid1.inset_locator import BboxPatch, BboxConnector, BboxConnectorPatch\n",
    "\n",
    "def connect_bbox(bbox1, bbox2,\n",
    "                 loc1a, loc2a, loc1b, loc2b,\n",
    "                 prop_lines, prop_patches=None):\n",
    "    if prop_patches is None:\n",
    "        prop_patches = prop_lines.copy()\n",
    "        prop_patches[\"alpha\"] = prop_patches.get(\"alpha\", 1)*0.2\n",
    "\n",
    "    c1 = BboxConnector(bbox1, bbox2, loc1=loc1a, loc2=loc2a, **prop_lines)\n",
    "    c1.set_clip_on(False)\n",
    "    c2 = BboxConnector(bbox1, bbox2, loc1=loc1b, loc2=loc2b, **prop_lines)\n",
    "    c2.set_clip_on(False)\n",
    "\n",
    "    bbox_patch1 = BboxPatch(bbox1, **prop_patches)\n",
    "    bbox_patch2 = BboxPatch(bbox2, **prop_patches)\n",
    "\n",
    "    p = BboxConnectorPatch(bbox1, bbox2,\n",
    "                           # loc1a=3, loc2a=2, loc1b=4, loc2b=1,\n",
    "                           loc1a=loc1a, loc2a=loc2a, loc1b=loc1b, loc2b=loc2b,\n",
    "                           **prop_patches)\n",
    "    p.set_clip_on(False)\n",
    "\n",
    "    return c1, c2, bbox_patch1, bbox_patch2, p\n",
    "\n",
    "\n",
    "def zoom_effect01(ax1, ax2, xmin, xmax, **kwargs):\n",
    "    \"\"\"\n",
    "    ax1 : the main axes\n",
    "    ax1 : the zoomed axes\n",
    "    (xmin,xmax) : the limits of the colored area in both plot axes.\n",
    "\n",
    "    connect ax1 & ax2. The x-range of (xmin, xmax) in both axes will\n",
    "    be marked.  The keywords parameters will be used ti create\n",
    "    patches.\n",
    "\n",
    "    \"\"\"\n",
    "\n",
    "    trans1 = blended_transform_factory(ax1.transData, ax1.transAxes)\n",
    "    trans2 = blended_transform_factory(ax2.transData, ax2.transAxes)\n",
    "\n",
    "    bbox = Bbox.from_extents(xmin, 0, xmax, 1)\n",
    "\n",
    "    mybbox1 = TransformedBbox(bbox, trans1)\n",
    "    mybbox2 = TransformedBbox(bbox, trans2)\n",
    "\n",
    "    prop_patches = kwargs.copy()\n",
    "    prop_patches[\"ec\"] = \"none\"\n",
    "    prop_patches[\"alpha\"] = 0.2\n",
    "\n",
    "    c1, c2, bbox_patch1, bbox_patch2, p = \\\n",
    "        connect_bbox(mybbox1, mybbox2,\n",
    "                     loc1a=3, loc2a=2, loc1b=4, loc2b=1,\n",
    "                     prop_lines=kwargs, prop_patches=prop_patches)\n",
    "\n",
    "    ax1.add_patch(bbox_patch1)\n",
    "    ax2.add_patch(bbox_patch2)\n",
    "    ax2.add_patch(c1)\n",
    "    ax2.add_patch(c2)\n",
    "    ax2.add_patch(p)\n",
    "\n",
    "    return c1, c2, bbox_patch1, bbox_patch2, p\n",
    "\n",
    "\n",
    "def zoom_effect02(ax1, ax2, **kwargs):\n",
    "    \"\"\"\n",
    "    ax1 : the main axes\n",
    "    ax1 : the zoomed axes\n",
    "\n",
    "    Similar to zoom_effect01.  The xmin & xmax will be taken from the\n",
    "    ax1.viewLim.\n",
    "    \"\"\"\n",
    "\n",
    "    tt = ax1.transScale + (ax1.transLimits + ax2.transAxes)\n",
    "    trans = blended_transform_factory(ax2.transData, tt)\n",
    "\n",
    "    mybbox1 = ax1.bbox\n",
    "    mybbox2 = TransformedBbox(ax1.viewLim, trans)\n",
    "\n",
    "    prop_patches = kwargs.copy()\n",
    "    prop_patches[\"ec\"] = \"none\"\n",
    "    prop_patches[\"alpha\"] = 0.2\n",
    "\n",
    "    c1, c2, bbox_patch1, bbox_patch2, p = \\\n",
    "        connect_bbox(mybbox1, mybbox2,\n",
    "                     loc1a=3, loc2a=2, loc1b=4, loc2b=1,\n",
    "                     prop_lines=kwargs, prop_patches=prop_patches)\n",
    "\n",
    "    ax1.add_patch(bbox_patch1)\n",
    "    ax2.add_patch(bbox_patch2)\n",
    "    ax2.add_patch(c1)\n",
    "    ax2.add_patch(c2)\n",
    "    ax2.add_patch(p)\n",
    "\n",
    "    return c1, c2, bbox_patch1, bbox_patch2, p\n",
    "\n",
    "\n",
    "import matplotlib.pyplot as plt\n",
    "\n",
    "plt.figure(1, figsize=(5, 5))\n",
    "ax1 = plt.subplot(221)\n",
    "ax2 = plt.subplot(212)\n",
    "ax2.set_xlim(0, 1)\n",
    "ax2.set_xlim(0, 5)\n",
    "zoom_effect01(ax1, ax2, 0.2, 0.8)\n",
    "\n",
    "\n",
    "ax1 = plt.subplot(222)\n",
    "ax1.set_xlim(2, 3)\n",
    "ax2.set_xlim(0, 5)\n",
    "zoom_effect02(ax1, ax2)\n",
    "\n",
    "plt.show()"
   ]
  },
  {
   "cell_type": "markdown",
   "metadata": {},
   "source": [
    "### Define Custom BoxStyle"
   ]
  },
  {
   "cell_type": "markdown",
   "metadata": {},
   "source": [
    "You can use a custom box style. The value for the boxstyle can be a callable object in the following forms.:\n",
    "```\n",
    "def __call__(self, x0, y0, width, height, mutation_size,\n",
    "             aspect_ratio=1.):\n",
    "    \"\"\"\n",
    "    Given the location and size of the box, return the path of\n",
    "    the box around it.\n",
    "\n",
    "      - *x0*, *y0*, *width*, *height* : location and size of the box\n",
    "      - *mutation_size* : a reference scale for the mutation.\n",
    "      - *aspect_ratio* : aspect-ratio for the mutation.\n",
    "    \"\"\"\n",
    "    path = ...\n",
    "    return path\n",
    "```\n",
    "Here is a complete example."
   ]
  },
  {
   "cell_type": "code",
   "execution_count": 55,
   "metadata": {
    "collapsed": false
   },
   "outputs": [
    {
     "data": {
      "text/plain": [
       "<matplotlib.text.Text at 0x7f9ca95ecc50>"
      ]
     },
     "execution_count": 55,
     "metadata": {},
     "output_type": "execute_result"
    },
    {
     "data": {
      "image/png": "[encoded data removed]",
      "text/plain": [
       "<matplotlib.figure.Figure at 0x7f9ca95ec3c8>"
      ]
     },
     "metadata": {},
     "output_type": "display_data"
    }
   ],
   "source": [
    "from matplotlib.path import Path\n",
    "\n",
    "def custom_box_style(x0, y0, width, height, mutation_size, mutation_aspect=1):\n",
    "    \"\"\"\n",
    "    Given the location and size of the box, return the path of\n",
    "    the box around it.\n",
    "    \n",
    "     - *x0*, *y0*, *width*, *height* : location and size of the box\n",
    "     - *mutation_size* : a reference scale for the mutation.\n",
    "     - *aspect_ratio* : aspect-ration for the mutation.\n",
    "    \"\"\"\n",
    "\n",
    "    # note that we are ignoring mutation_aspect. This is okay in general.\n",
    "\n",
    "    # padding\n",
    "    mypad = 0.3\n",
    "    pad = mutation_size * mypad\n",
    "\n",
    "    # width and height with padding added.\n",
    "    width, height = width + 2.*pad, \\\n",
    "                    height + 2.*pad,\n",
    "\n",
    "    # boundary of the padded box\n",
    "    x0, y0 = x0-pad, y0-pad,\n",
    "    x1, y1 = x0+width, y0 + height\n",
    "\n",
    "    cp = [(x0, y0),\n",
    "          (x1, y0), (x1, y1), (x0, y1),\n",
    "          (x0-pad, (y0+y1)/2.), (x0, y0),\n",
    "          (x0, y0)]\n",
    "\n",
    "    com = [Path.MOVETO,\n",
    "           Path.LINETO, Path.LINETO, Path.LINETO,\n",
    "           Path.LINETO, Path.LINETO,\n",
    "           Path.CLOSEPOLY]\n",
    "\n",
    "    path = Path(cp, com)\n",
    "\n",
    "    return path\n",
    "\n",
    "\n",
    "import matplotlib.pyplot as plt\n",
    "\n",
    "plt.figure(1, figsize=(3,3))\n",
    "ax = plt.subplot(111)\n",
    "ax.text(0.5, 0.5, \"Test\", size=30, va=\"center\", ha=\"center\",\n",
    "        bbox=dict(boxstyle=custom_box_style, alpha=0.2))"
   ]
  },
  {
   "cell_type": "markdown",
   "metadata": {},
   "source": [
    "However, it is recommended that you derive from the ***matplotlib.patches.BoxStyle._Base*** as demonstrated below."
   ]
  },
  {
   "cell_type": "code",
   "execution_count": 56,
   "metadata": {
    "collapsed": false
   },
   "outputs": [
    {
     "data": {
      "image/png": "[encoded data removed]",
      "text/plain": [
       "<matplotlib.figure.Figure at 0x7f9ca95ec860>"
      ]
     },
     "metadata": {},
     "output_type": "display_data"
    }
   ],
   "source": [
    "from matplotlib.path import Path\n",
    "from matplotlib.patches import BoxStyle \n",
    "\n",
    "# we may derive from matplotlib.patches.BoxStyle._Base class.\n",
    "# You need to override transmute method in this case.\n",
    "\n",
    "class MyStyle(BoxStyle._Base):\n",
    "    \"\"\"\n",
    "    A simple box.\n",
    "    \"\"\"\n",
    "\n",
    "    def __init__(self, pad=0.3):\n",
    "        \"\"\"\n",
    "        The arguments need to be floating numbers and need to have\n",
    "        default values.\n",
    "        \n",
    "         *pad*\n",
    "            amount of padding\n",
    "        \"\"\"\n",
    "\n",
    "        self.pad = pad\n",
    "        super(MyStyle, self).__init__()\n",
    "\n",
    "    def transmute(self, x0, y0, width, height, mutation_size):\n",
    "        \"\"\"\n",
    "        Given the location and size of the box, return the path of\n",
    "        the box around it.\n",
    "\n",
    "         - *x0*, *y0*, *width*, *height* : location and size of the box\n",
    "         - *mutation_size* : a reference scale for the mutation.\n",
    "\n",
    "        Often, the *mutation_size* is the font size of the text.\n",
    "        You don't need to worry about the rotation as it is\n",
    "        automatically taken care of.\n",
    "        \"\"\"\n",
    "\n",
    "        # padding\n",
    "        pad = mutation_size * self.pad\n",
    "\n",
    "        # width and height with padding added.\n",
    "        width, height = width + 2.*pad, \\\n",
    "                        height + 2.*pad,\n",
    "\n",
    "        # boundary of the padded box\n",
    "        x0, y0 = x0-pad, y0-pad,\n",
    "        x1, y1 = x0+width, y0 + height\n",
    "\n",
    "        cp = [(x0, y0),\n",
    "              (x1, y0), (x1, y1), (x0, y1),\n",
    "              (x0-pad, (y0+y1)/2.), (x0, y0),\n",
    "              (x0, y0)]\n",
    "\n",
    "        com = [Path.MOVETO,\n",
    "               Path.LINETO, Path.LINETO, Path.LINETO,\n",
    "               Path.LINETO, Path.LINETO,\n",
    "               Path.CLOSEPOLY]\n",
    "\n",
    "        path = Path(cp, com)\n",
    "\n",
    "        return path\n",
    "\n",
    "\n",
    "# register the custom style\n",
    "BoxStyle._style_list[\"angled\"] = MyStyle\n",
    "\n",
    "plt.figure(1, figsize=(3,3))\n",
    "ax = plt.subplot(111)\n",
    "ax.text(0.5, 0.5, \"Test\", size=30, va=\"center\", ha=\"center\", rotation=30,\n",
    "        bbox=dict(boxstyle=\"angled,pad=0.5\", alpha=0.2))\n",
    "\n",
    "del BoxStyle._style_list[\"angled\"]\n",
    "\n",
    "plt.show()"
   ]
  },
  {
   "cell_type": "markdown",
   "metadata": {},
   "source": [
    "Similarly, you can define a custom ConnectionStyle and a custom ArrowStyle. See the source code of lib/matplotlib/patches.py and check how each style class is defined."
   ]
  },
  {
   "cell_type": "markdown",
   "metadata": {},
   "source": [
    "## Writing mathematical expressions\n",
    "http://matplotlib.org/users/mathtext.html"
   ]
  },
  {
   "cell_type": "markdown",
   "metadata": {},
   "source": [
    "You can use a subset TeX markup in any matplotlib text string by placing it inside a pair of dollar signs ($).\n",
    "\n",
    "Note that you do not need to have TeX installed, since ***matplotlib ships its own TeX expression parser, layout engine and fonts***. The layout engine is a fairly direct adaptation of the layout algorithms in Donald Knuth’s TeX, so the quality is quite good (matplotlib also provides a usetex option for those who do want to call out to TeX to generate their text (see Text rendering With LaTeX).\n",
    "\n",
    "Any text element can use math text. You should use raw strings (precede the quotes with an 'r'), and surround the math text with dollar signs ($), as in TeX. Regular text and mathtext can be interleaved within the same string. Mathtext can use DejaVu Sans (default), DejaVu Serif, the Computer Modern fonts (from (La)TeX), STIX fonts (with are designed to blend well with Times), or a Unicode font that you provide. The mathtext font can be selected with the customization variable ***mathtext.fontset*** (see Customizing matplotlib)\n",
    "\n",
    "Note:  \n",
    "On “narrow” builds of Python, if you use the STIX fonts you should also set ps.fonttype and pdf.fonttype to 3 (the default), not 42. Otherwise some characters will not be visible.  \n",
    "\n",
    "Here is a simple example:\n",
    "Whereas this:\n",
    "```\n",
    "alpha > beta\n",
    "```\n",
    "produces “alpha > beta”\n",
    "\n",
    "Whereas this: \n",
    "```\n",
    "$\\alpha > \\beta$\n",
    "```\n",
    "produces $\\alpha > \\beta$\n",
    "\n",
    "\n",
    "Note:  \n",
    "Mathtext should be placed between a pair of dollar signs (\\$). To make it easy to display monetary values, e.g., “$100.00”, if a single dollar sign is present in the entire string, it will be displayed verbatim as a dollar sign. This is a small change from regular TeX, where the dollar sign in non-math text would have to be escaped (‘\\$’).  \n",
    "\n",
    "Note:  \n",
    "While the syntax inside the pair of dollar signs ($) aims to be ***TeX-like***, the text outside does not. In particular, characters such as:\n",
    "\n",
    " \\$ % & ~ _ ^ \\ { } \\( \\) \\[ \\] \n",
    " \n",
    "have special meaning outside of math mode in TeX. Therefore, these characters will behave differently depending on the rcParam ***text.usetex*** flag. See the usetex tutorial for more information.  "
   ]
  },
  {
   "cell_type": "markdown",
   "metadata": {},
   "source": [
    "## Subscripts and superscripts"
   ]
  },
  {
   "cell_type": "markdown",
   "metadata": {},
   "source": [
    "To make subscripts and superscripts, use the '_' and '^' symbols:\n",
    "```\n",
    "$\\alpha_i > \\beta_i$\n",
    "```\n",
    "$\\alpha_i > \\beta_i$\n",
    "\n",
    "Some symbols automatically put their sub/superscripts under and over the operator. For example, to write the sum of  from  to , you could do:\n",
    "```\n",
    "$\\sum_{i=0}^\\infty x_i$\n",
    "```\n",
    "$\\sum_{i=0}^\\infty x_i$"
   ]
  },
  {
   "cell_type": "markdown",
   "metadata": {},
   "source": [
    "## Fractions, binomials and stacked numbers"
   ]
  },
  {
   "cell_type": "markdown",
   "metadata": {},
   "source": [
    "Fractions, binomials and stacked numbers can be created with the \\frac{}{}, \\binom{}{} and \\stackrel{}{} commands, respectively:\n",
    "```\n",
    "$\\frac{3}{4} \\binom{3}{4} \\stackrel{3}{4}$\n",
    "```\n",
    "$\\frac{3}{4} \\binom{3}{4} \\stackrel{3}{4}$\n",
    "\n",
    "Fractions can be arbitrarily nested:\n",
    "```\n",
    "$\\frac{5 - \\frac{1}{x}}{4}$\n",
    "```\n",
    "produces\n",
    "$\\frac{5 - \\frac{1}{x}}{4}$\n",
    "\n",
    "Note that special care needs to be taken to place parentheses and brackets around fractions. Doing things the obvious way produces brackets that are too small:\n",
    "```\n",
    "$(\\frac{5 - \\frac{1}{x}}{4})$\n",
    "```\n",
    "r'$(\\frac{5 - \\frac{1}{x}}{4})$\n",
    "\n",
    "The solution is to precede the bracket with ***\\left*** and ***\\right*** to inform the parser that those brackets encompass the entire object:\n",
    "```\n",
    "$\\left(\\frac{5 - \\frac{1}{x}}{4}\\right)$\n",
    "```\n",
    "$\\left(\\frac{5 - \\frac{1}{x}}{4}\\right)$"
   ]
  },
  {
   "cell_type": "markdown",
   "metadata": {},
   "source": [
    "## Radicals"
   ]
  },
  {
   "cell_type": "markdown",
   "metadata": {},
   "source": [
    "Radicals\n",
    "Radicals can be produced with the \\sqrt[]{} command. For example:\n",
    "```\n",
    "$\\sqrt{2}$\n",
    "```\n",
    "$\\sqrt{2}$\n",
    "\n",
    "Any base can (optionally) be provided inside square brackets. Note that the base must be a simple expression, and can not contain layout commands such as fractions or sub/superscripts:\n",
    "```\n",
    "$\\sqrt[3]{x}$\n",
    "```\n",
    "$\\sqrt[3]{x}$"
   ]
  },
  {
   "cell_type": "markdown",
   "metadata": {},
   "source": [
    "## Fonts"
   ]
  },
  {
   "cell_type": "markdown",
   "metadata": {},
   "source": [
    "The default font is ***italics*** for mathematical symbols.\n",
    "\n",
    "Note:  \n",
    "This default can be changed using the ***mathtext.default*** rcParam. This is useful, for example, to use the same font as regular non-math text for math text, by setting it to regular.\n",
    "\n",
    "To change fonts, e.g., to write “sin” in a Roman font, enclose the text in a font command:\n",
    "```\n",
    "$s(t) = \\mathcal{A}\\mathrm{sin}(2 \\omega t)$\n",
    "```\n",
    "$s(t) = \\mathcal{A}\\mathrm{sin}(2 \\omega t)$  \n",
    "\n",
    "More conveniently, many commonly used function names that are typeset in a Roman font have shortcuts. So the expression above could be written as follows:\n",
    "```\n",
    "$s(t) = \\mathcal{A}\\sin(2 \\omega t)$\n",
    "```\n",
    "$s(t) = \\mathcal{A}\\sin(2 \\omega t)$  \n",
    "\n",
    "Here “s” and “t” are variable in italics font (default), “sin” is in Roman font, and the amplitude “A” is in calligraphy font. Note in the example above the caligraphy A is squished into the sin. You can use a spacing command to add a little whitespace between them:\n",
    "```\n",
    "$s(t) = \\mathcal{A}\\ \\sin(2 \\omega t)$\n",
    "```\n",
    "$s(t) = \\mathcal{A}\\ \\sin(2 \\omega t)$  \n",
    "\n",
    "\n",
    "The choices available with all fonts are:  \n",
    "Command\tResult:  \n",
    "\\mathrm{Roman}  $\\mathrm{Roman}$    \n",
    "\\mathit{Italic}\t$\\mathit{Italic}$  \n",
    "\\mathtt{Typewriter}\t$\\mathtt{Typewriter}$    \n",
    "\\mathcal{CALLIGRAPHY}  $\\mathcal{CALLIGRAPHY}$  \t\n",
    "\n",
    "\n",
    "When using the STIX fonts, you also have the choice of:  \n",
    "Command\tResult  \n",
    "\\mathbb{blackboard}\t  $\\mathbb{blackboard}$  \t\n",
    "\\mathrm{\\mathbb{blackboard}}  $\\mathrm{\\mathbb{blackboard}}$  \t\n",
    "\\mathfrak{Fraktur}\t$\\mathfrak{Fraktur}$  \t\n",
    "\\mathsf{sansserif}\t$\\mathsf{sansserif}$  \t\n",
    "\\mathrm{\\mathsf{sansserif}}\t $\\mathrm{\\mathsf{sansserif}}$  \t\n",
    "\\mathcircled{circled}  $\\mathcircled{circled}$   \n",
    "\n",
    "There are also three global “font sets” to choose from, which are selected using the ***mathtext.fontset*** parameter in matplotlibrc.  \n",
    "\n",
    "cm: Computer Modern (TeX)   \n",
    "stix: STIX (designed to blend well with Times)   \n",
    "stixsans: STIX sans-serif  \n",
    "\n",
    "Additionally, you can use ***\\mathdefault{...}*** or its alias ***\\mathregular{...}*** to use the font used for regular text outside of mathtext. There are a number of limitations to this approach, most notably that far fewer symbols will be available, but it can be useful to make math expressions blend well with other text in the plot."
   ]
  },
  {
   "cell_type": "markdown",
   "metadata": {},
   "source": [
    "### Custom fonts"
   ]
  },
  {
   "cell_type": "markdown",
   "metadata": {},
   "source": [
    "mathtext also provides a way to use custom fonts for math. This method is fairly tricky to use, and should be considered an experimental feature for patient users only. By setting the rcParam mathtext.fontset to custom, you can then set the following parameters, which control which font file to use for a particular set of math characters.\n",
    "\n",
    "```\n",
    "Parameter\tCorresponds to\n",
    "mathtext.it\t\\mathit{} or default italic\n",
    "mathtext.rm\t\\mathrm{} Roman (upright)\n",
    "mathtext.tt\t\\mathtt{} Typewriter (monospace)\n",
    "mathtext.bf\t\\mathbf{} bold italic\n",
    "mathtext.cal\t\\mathcal{} calligraphic\n",
    "mathtext.sf\t\\mathsf{} sans-serif\n",
    "```\n",
    "Each parameter should be set to a fontconfig font descriptor (as defined in the yet-to-be-written font chapter).\n",
    "\n",
    "The fonts used should have a ***Unicode*** mapping in order to find any non-Latin characters, such as Greek. If you want to use a math symbol that is not contained in your custom fonts, you can set the rcParam ***mathtext.fallback_to_cm*** to True which will cause the mathtext system to use characters from the default Computer Modern fonts whenever a particular character can not be found in the custom font.\n",
    "\n",
    "Note that the math glyphs specified in Unicode have evolved over time, and many fonts may not have glyphs in the correct place for mathtext."
   ]
  },
  {
   "cell_type": "markdown",
   "metadata": {},
   "source": [
    "## Accents"
   ]
  },
  {
   "cell_type": "markdown",
   "metadata": {},
   "source": [
    "## Symbols"
   ]
  },
  {
   "cell_type": "markdown",
   "metadata": {},
   "source": [
    "## Example"
   ]
  },
  {
   "cell_type": "code",
   "execution_count": 57,
   "metadata": {
    "collapsed": false
   },
   "outputs": [
    {
     "data": {
      "image/png": "[encoded data removed]",
      "text/plain": [
       "<matplotlib.figure.Figure at 0x7f9ca9723630>"
      ]
     },
     "metadata": {},
     "output_type": "display_data"
    }
   ],
   "source": [
    "t = np.arange(0.0, 2.0, 0.01)\n",
    "s = np.sin(2*np.pi*t)\n",
    "\n",
    "plt.plot(t,s)\n",
    "\n",
    "plt.title(r'$\\alpha_i > \\beta_i$', fontsize=20)\n",
    "plt.text(1, -0.6, r'$\\sum_{i=0}^\\infty x_i$', fontsize=20)\n",
    "plt.text(0.6, 0.6, r'$\\mathcal{A}\\mathrm{sin}(2 \\omega t)$',\n",
    "         fontsize=20)\n",
    "\n",
    "plt.xlabel('time (s)')\n",
    "plt.ylabel('volts (mV)')\n",
    "plt.show()"
   ]
  },
  {
   "cell_type": "markdown",
   "metadata": {},
   "source": [
    "## Text rendering With LaTeX\n",
    "http://matplotlib.org/users/usetex.html"
   ]
  },
  {
   "cell_type": "markdown",
   "metadata": {},
   "source": [
    "Matplotlib has the option to use LaTeX to manage all text layout. This option is available with the following backends:\n",
    "\n",
    "- Agg\n",
    "- PS\n",
    "- PDF \n",
    "\n",
    "The LaTeX option is activated by setting ***text.usetex*** : True in your rc settings. Text handling with matplotlib’s LaTeX support is slower than matplotlib’s very capable mathtext, but is more flexible, since different LaTeX packages (font packages, math packages, etc.) can be used. The results can be striking, especially when you take care to use the same fonts in your figures as in the main document.\n",
    "\n",
    "Matplotlib’s LaTeX support ***requires a working LaTeX installation***, dvipng (which may be included with your LaTeX installation), and Ghostscript (GPL Ghostscript 8.60 or later is recommended). The executables for these external dependencies must all be located on your PATH.\n",
    "\n",
    "There are a couple of options to mention, which can be changed using rc settings. Here is an example matplotlibrc file:\n",
    "```\n",
    "font.family        : serif\n",
    "font.serif         : Times, Palatino, New Century Schoolbook, Bookman, Computer Modern Roman\n",
    "font.sans-serif    : Helvetica, Avant Garde, Computer Modern Sans serif\n",
    "font.cursive       : Zapf Chancery\n",
    "font.monospace     : Courier, Computer Modern Typewriter\n",
    "\n",
    "text.usetex        : true\n",
    "```\n",
    "The first valid font in each family is the one that will be loaded. If the fonts are not specified, the Computer Modern fonts are used by default. All of the other fonts are Adobe fonts. Times and Palatino each have their own accompanying math fonts, while the other Adobe serif fonts make use of the Computer Modern math fonts. See the PSNFSS documentation for more details.\n",
    "\n",
    "To use LaTeX and select Helvetica as the default font, without editing matplotlibrc use: "
   ]
  }
 ],
 "metadata": {
  "kernelspec": {
   "display_name": "Python 3",
   "language": "python",
   "name": "python3"
  },
  "language_info": {
   "codemirror_mode": {
    "name": "ipython",
    "version": 3
   },
   "file_extension": ".py",
   "mimetype": "text/x-python",
   "name": "python",
   "nbconvert_exporter": "python",
   "pygments_lexer": "ipython3",
   "version": "3.6.0"
  }
 },
 "nbformat": 4,
 "nbformat_minor": 2
}
