{
 "cells": [
  {
   "cell_type": "markdown",
   "metadata": {},
   "source": [
    "# Interactive plots\n",
    "http://matplotlib.org/users/interactive.html"
   ]
  },
  {
   "cell_type": "code",
   "execution_count": 1,
   "metadata": {
    "collapsed": false
   },
   "outputs": [
    {
     "name": "stdout",
     "output_type": "stream",
     "text": [
      "Using matplotlib backend: Qt5Agg\n",
      "Populating the interactive namespace from numpy and matplotlib\n"
     ]
    }
   ],
   "source": [
    "%pylab"
   ]
  },
  {
   "cell_type": "markdown",
   "metadata": {},
   "source": [
    "## Interactive navigation\n",
    "http://matplotlib.org/users/navigation_toolbar.html"
   ]
  },
  {
   "cell_type": "markdown",
   "metadata": {},
   "source": [
    "## Using matplotlib in a python shell\n",
    "http://matplotlib.org/users/shell.html\n",
    "#### Warning\n",
    "This page is significantly out of date"
   ]
  },
  {
   "cell_type": "markdown",
   "metadata": {},
   "source": [
    "## Event handling and picking\n",
    "http://matplotlib.org/users/event_handling.html"
   ]
  },
  {
   "cell_type": "markdown",
   "metadata": {},
   "source": [
    "matplotlib works with a number of user interface toolkits (wxpython, tkinter, qt4, gtk, and macosx) and in order to support features like interactive panning and zooming of figures, it is helpful to the developers to have an API for interacting with the figure via key presses and mouse movements that is “GUI neutral” so we don’t have to repeat a lot of code across the different user interfaces. Although the event handling API is GUI neutral, it is based on the GTK model, which was the first user interface matplotlib supported. The events that are triggered are also a bit richer vis-a-vis matplotlib than standard GUI events, including information like which matplotlib.axes.Axes the event occurred in. The events also understand the matplotlib coordinate system, and report event locations in both pixel and data coordinates.\n",
    "\n",
    "### Event connections\n",
    "To receive events, you need to write a callback function and then connect your function to the event manager, which is part of the FigureCanvasBase. Here is a simple example that prints the location of the mouse click and which button was pressed:"
   ]
  },
  {
   "cell_type": "code",
   "execution_count": null,
   "metadata": {
    "collapsed": false
   },
   "outputs": [],
   "source": [
    "fig = plt.figure()\n",
    "ax = fig.add_subplot(111)\n",
    "ax.plot(np.random.rand(10))\n",
    "\n",
    "def onclick(event):\n",
    "    print('button=%d, x=%d, y=%d, xdata=%f, ydata=%f' %\n",
    "          (event.button, event.x, event.y, event.xdata, event.ydata))\n",
    "\n",
    "cid = fig.canvas.mpl_connect('button_press_event', onclick)"
   ]
  },
  {
   "cell_type": "markdown",
   "metadata": {},
   "source": [
    "The FigureCanvas method mpl_connect() returns a connection id which is simply an integer. When you want to disconnect the callback, just call:\n",
    "\n",
    "> fig.canvas.mpl_disconnect(cid)\n",
    "\n",
    "#### Note:\n",
    "The canvas retains only weak references to the callbacks. Therefore if a callback is a method of a class instance, you need to retain a reference to that instance. Otherwise the instance will be garbage-collected and the callback will vanish.  \n",
    "\n",
    "Here are the events that you can connect to, the class instances that are sent back to you when the event occurs, and the event descriptions\n",
    "```\n",
    "Event name\tClass and description\n",
    "‘button_press_event’\tMouseEvent - mouse button is pressed\n",
    "‘button_release_event’\tMouseEvent - mouse button is released\n",
    "‘draw_event’\tDrawEvent - canvas draw\n",
    "‘key_press_event’\tKeyEvent - key is pressed\n",
    "‘key_release_event’\tKeyEvent - key is released\n",
    "‘motion_notify_event’\tMouseEvent - mouse motion\n",
    "‘pick_event’\tPickEvent - an object in the canvas is selected\n",
    "‘resize_event’\tResizeEvent - figure canvas is resized\n",
    "‘scroll_event’\tMouseEvent - mouse scroll wheel is rolled\n",
    "‘figure_enter_event’\tLocationEvent - mouse enters a new figure\n",
    "‘figure_leave_event’\tLocationEvent - mouse leaves a figure\n",
    "‘axes_enter_event’\tLocationEvent - mouse enters a new axes\n",
    "‘axes_leave_event’\tLocationEvent - mouse leaves an axes\n",
    "```"
   ]
  },
  {
   "cell_type": "markdown",
   "metadata": {},
   "source": [
    "## Event attributes"
   ]
  }
 ],
 "metadata": {
  "kernelspec": {
   "display_name": "Python 3",
   "language": "python",
   "name": "python3"
  },
  "language_info": {
   "codemirror_mode": {
    "name": "ipython",
    "version": 3
   },
   "file_extension": ".py",
   "mimetype": "text/x-python",
   "name": "python",
   "nbconvert_exporter": "python",
   "pygments_lexer": "ipython3",
   "version": "3.6.0"
  }
 },
 "nbformat": 4,
 "nbformat_minor": 2
}
